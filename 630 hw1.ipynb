{
 "cells": [
  {
   "cell_type": "markdown",
   "metadata": {},
   "source": [
    "# Homework 1\n",
    "\n",
    "Due date: Wednesday, September 22 at midnight."
   ]
  },
  {
   "cell_type": "markdown",
   "metadata": {},
   "source": [
    "## Guidelines\n",
    "* Answer in the cells immediately below the problem statements. If a problem calls for code, a code cell will follow. If a problem calls for a text response, a Markdown cell will follow.\n",
    "* Your code should include some comments. Insufficient commentary may result in loss of points. But you do not necessarily need to comment every line or problem. Further guidelines:\n",
    "    - If the the meaning of some line of code would be obvious to the average Python novice, you do not need to comment (e.g., you do not need to comment _import numpy_). \n",
    "    - If your code is moderately complex, you should comment (e.g., if you nest several functions in one line, you should comment). \n",
    "    - It may be proper to comment before a code block to describe generally what you are doing (e.g., you should comment before a function definition to explain the function and its parameters)."
   ]
  },
  {
   "cell_type": "markdown",
   "metadata": {},
   "source": [
    "# Problem 1"
   ]
  },
  {
   "cell_type": "markdown",
   "metadata": {},
   "source": [
    "## 1.1\n",
    "Load the _lowbwt_ dataset from the OpenML repository as a Pandas DataFrame from following URL: https://www.openml.org/data/get_csv/3640/dataset_2189_lowbwt.arff. Use a function that is able to handle loading the data directly into Jupyter from the URL. The function should take the URL as an argument. **Do not load the data using a filepath on your hard drive:** again, load the data directly into Jupyter using the URL.\n",
    "\n",
    "Print the loaded DataFrame. Read the [description](https://www.openml.org/d/203) of the dataset to better understand it. Check the column names and values to see if they match the variables discussed in the description. One or more variables may have been renamed."
   ]
  },
  {
   "cell_type": "code",
   "execution_count": 1,
   "metadata": {
    "scrolled": true
   },
   "outputs": [
    {
     "name": "stdout",
     "output_type": "stream",
     "text": [
      "     LOW  AGE  LWT  RACE  SMOKE  PTL  HT  UI  FTV  class\n",
      "0      0   19  182     2      0    0   0   1    0   2523\n",
      "1      0   33  155     3      0    0   0   0    3   2551\n",
      "2      0   20  105     1      1    0   0   0    1   2557\n",
      "3      0   21  108     1      1    0   0   1    2   2594\n",
      "4      0   18  107     1      1    0   0   1    0   2600\n",
      "5      0   21  124     3      0    0   0   0    0   2622\n",
      "6      0   22  118     1      0    0   0   0    1   2637\n",
      "7      0   17  103     3      0    0   0   0    1   2637\n",
      "8      0   29  123     1      1    0   0   0    1   2663\n",
      "9      0   26  113     1      1    0   0   0    0   2665\n",
      "10     0   19   95     3      0    0   0   0    0   2722\n",
      "11     0   19  150     3      0    0   0   0    1   2733\n",
      "12     0   22   95     3      0    0   1   0    0   2750\n",
      "13     0   30  107     3      0    1   0   1    2   2750\n",
      "14     0   18  100     1      1    0   0   0    0   2769\n",
      "15     0   18  100     1      1    0   0   0    0   2769\n",
      "16     0   15   98     2      0    0   0   0    0   2778\n",
      "17     0   25  118     1      1    0   0   0    3   2782\n",
      "18     0   20  120     3      0    0   0   1    0   2807\n",
      "19     0   28  120     1      1    0   0   0    1   2821\n",
      "20     0   32  121     3      0    0   0   0    2   2835\n",
      "21     0   31  100     1      0    0   0   1    3   2835\n",
      "22     0   36  202     1      0    0   0   0    1   2836\n",
      "23     0   28  120     3      0    0   0   0    0   2863\n",
      "24     0   25  120     3      0    0   0   1    2   2877\n",
      "25     0   28  167     1      0    0   0   0    0   2877\n",
      "26     0   17  122     1      1    0   0   0    0   2906\n",
      "27     0   29  150     1      0    0   0   0    2   2920\n",
      "28     0   26  168     2      1    0   0   0    0   2920\n",
      "29     0   17  113     2      0    0   0   0    1   2920\n",
      "..   ...  ...  ...   ...    ...  ...  ..  ..  ...    ...\n",
      "159    1   20   80     3      1    0   0   1    0   2211\n",
      "160    1   17  110     1      1    0   0   0    0   2225\n",
      "161    1   25  105     3      0    1   0   0    1   2240\n",
      "162    1   20  109     3      0    0   0   0    0   2240\n",
      "163    1   18  148     3      0    0   0   0    0   2282\n",
      "164    1   18  110     2      1    1   0   0    0   2296\n",
      "165    1   20  121     1      1    1   0   1    0   2296\n",
      "166    1   21  100     3      0    1   0   0    4   2301\n",
      "167    1   26   96     3      0    0   0   0    0   2325\n",
      "168    1   31  102     1      1    1   0   0    1   2353\n",
      "169    1   15  110     1      0    0   0   0    0   2353\n",
      "170    1   23  187     2      1    0   0   0    1   2367\n",
      "171    1   20  122     2      1    0   0   0    0   2381\n",
      "172    1   24  105     2      1    0   0   0    0   2381\n",
      "173    1   15  115     3      0    0   0   1    0   2381\n",
      "174    1   23  120     3      0    0   0   0    0   2395\n",
      "175    1   30  142     1      1    1   0   0    0   2410\n",
      "176    1   22  130     1      1    0   0   0    1   2410\n",
      "177    1   17  120     1      1    0   0   0    3   2414\n",
      "178    1   23  110     1      1    1   0   0    0   2424\n",
      "179    1   17  120     2      0    0   0   0    2   2438\n",
      "180    1   26  154     3      0    1   1   0    1   2442\n",
      "181    1   20  105     3      0    0   0   0    3   2450\n",
      "182    1   26  190     1      1    0   0   0    0   2466\n",
      "183    1   14  101     3      1    1   0   0    0   2466\n",
      "184    1   28   95     1      1    0   0   0    2   2466\n",
      "185    1   14  100     3      0    0   0   0    2   2495\n",
      "186    1   23   94     3      1    0   0   0    0   2495\n",
      "187    1   17  142     2      0    0   1   0    0   2495\n",
      "188    1   21  130     1      1    0   1   0    3   2495\n",
      "\n",
      "[189 rows x 10 columns]\n"
     ]
    }
   ],
   "source": [
    "import pandas as pd\n",
    "data = pd.read_csv('https://www.openml.org/data/get_csv/3640/dataset_2189_lowbwt.arff')\n",
    "\n",
    "# Birth Weight in Grams (BWT) has been renamed as class\n",
    "print(data)"
   ]
  },
  {
   "cell_type": "markdown",
   "metadata": {},
   "source": [
    "## 1.2\n",
    "From the full DataFrame, extract and print a DataFrame with the birthweight column (and only the birthweight column) for mothers who smoked during pregnancy and had low-birthweight deliveries."
   ]
  },
  {
   "cell_type": "code",
   "execution_count": 2,
   "metadata": {},
   "outputs": [
    {
     "data": {
      "text/plain": [
       "130     709\n",
       "132    1135\n",
       "139    1790\n",
       "140    1818\n",
       "141    1885\n",
       "144    1928\n",
       "145    1928\n",
       "147    1936\n",
       "152    2084\n",
       "153    2084\n",
       "155    2125\n",
       "156    2126\n",
       "157    2187\n",
       "159    2211\n",
       "160    2225\n",
       "164    2296\n",
       "165    2296\n",
       "168    2353\n",
       "170    2367\n",
       "171    2381\n",
       "172    2381\n",
       "175    2410\n",
       "176    2410\n",
       "177    2414\n",
       "178    2424\n",
       "182    2466\n",
       "183    2466\n",
       "184    2466\n",
       "186    2495\n",
       "188    2495\n",
       "Name: class, dtype: int64"
      ]
     },
     "execution_count": 2,
     "metadata": {},
     "output_type": "execute_result"
    }
   ],
   "source": [
    "# select indices for mothers who smoked during pregnancy and had low-birthweight deliveries.\n",
    "indices = ((data[\"LOW\"] == 1) & (data[\"SMOKE\"] == 1))\n",
    "low_birthweight_who_smoked = data[\"class\"][indices]\n",
    "low_birthweight_who_smoked"
   ]
  },
  {
   "cell_type": "markdown",
   "metadata": {},
   "source": [
    "## 1.3\n",
    "Print the following statistics for the birthweights in the original full dataset:\n",
    "- Standard deviation\n",
    "- 0.16 Quantile\n",
    "- Mean\n",
    "- Median\n",
    "- 0.84 Quantile\n",
    "\n",
    "Afterwards, print the same statistics for the birthweights in the subset you selected in 1.2."
   ]
  },
  {
   "cell_type": "code",
   "execution_count": 3,
   "metadata": {},
   "outputs": [],
   "source": [
    "# def a function to calculate all the statistics\n",
    "def statistics(dataframe):\n",
    "    std = dataframe.std()\n",
    "    mean = dataframe.mean()\n",
    "    quantiles = dataframe.quantile([0.16,0.5,0.84])\n",
    "    print(\"std: {}, 0.16 quantile: {}, mean: {}, median: {}, 0.84 quantile: {}\".format(std, quantiles[0.16], mean, quantiles[0.5], quantiles[0.84]))"
   ]
  },
  {
   "cell_type": "code",
   "execution_count": 4,
   "metadata": {
    "scrolled": true
   },
   "outputs": [
    {
     "name": "stdout",
     "output_type": "stream",
     "text": [
      "The statistics for the birthweights in the original full dataset\n",
      "\n",
      "std: 729.0224168601321, 0.16 quantile: 2226.2, mean: 2944.6560846560847, median: 2977.0, 0.84 quantile: 3695.159999999999\n"
     ]
    }
   ],
   "source": [
    "origin_birthweight = data[\"class\"]\n",
    "print(\"The statistics for the birthweights in the original full dataset\\n\")\n",
    "statistics(origin_birthweight)"
   ]
  },
  {
   "cell_type": "code",
   "execution_count": 5,
   "metadata": {},
   "outputs": [
    {
     "name": "stdout",
     "output_type": "stream",
     "text": [
      "The statistics for the birthweights in the subset in 1.2\n",
      "\n",
      "std: 399.8074090956996, 0.16 quantile: 1912.52, mean: 2143.0333333333333, median: 2260.5, 0.84 quantile: 2439.12\n"
     ]
    }
   ],
   "source": [
    "print(\"The statistics for the birthweights in the subset in 1.2\\n\")\n",
    "statistics(low_birthweight_who_smoked)"
   ]
  },
  {
   "cell_type": "markdown",
   "metadata": {},
   "source": [
    "## 1.4\n",
    "Plot two density histograms: one for the birthweights in the full dataset, and one for the birthweights in the subset you selected in 1.2. Label the histograms."
   ]
  },
  {
   "cell_type": "code",
   "execution_count": 8,
   "metadata": {},
   "outputs": [
    {
     "data": {
      "text/plain": [
       "<matplotlib.axes._subplots.AxesSubplot at 0x209d1761630>"
      ]
     },
     "execution_count": 8,
     "metadata": {},
     "output_type": "execute_result"
    },
    {
     "data": {
      "image/png": "[encoded data removed]",
      "text/plain": [
       "<Figure size 432x288 with 1 Axes>"
      ]
     },
     "metadata": {
      "needs_background": "light"
     },
     "output_type": "display_data"
    }
   ],
   "source": [
    "origin_birthweight.plot(kind='hist',title='Histograms for the birthweights in the full dataset', bins = 20)"
   ]
  },
  {
   "cell_type": "code",
   "execution_count": 9,
   "metadata": {},
   "outputs": [
    {
     "data": {
      "text/plain": [
       "<matplotlib.axes._subplots.AxesSubplot at 0x209d197da90>"
      ]
     },
     "execution_count": 9,
     "metadata": {},
     "output_type": "execute_result"
    },
    {
     "data": {
      "image/png": "[encoded data removed]",
      "text/plain": [
       "<Figure size 432x288 with 1 Axes>"
      ]
     },
     "metadata": {
      "needs_background": "light"
     },
     "output_type": "display_data"
    }
   ],
   "source": [
    "low_birthweight_who_smoked.plot(kind='hist',title='Histograms for the birthweights in the subset in 1.2', bins = 20)"
   ]
  },
  {
   "cell_type": "markdown",
   "metadata": {},
   "source": [
    "## 1.5\n",
    "Is a normal distribution a plausible model for birthweight in either of the two datasets? Back up your answer using the previous results. This image of a normal PDF may be useful:\n",
    "\n",
    "\n",
    "![Normal PDF](bell-curve.jpg)"
   ]
  },
  {
   "cell_type": "markdown",
   "metadata": {},
   "source": [
    "### _Answer:_\n",
    "\n",
    "A normal distribution may be a plausible model for the birthweights in the full dataset."
   ]
  },
  {
   "cell_type": "markdown",
   "metadata": {},
   "source": [
    "# Problem 2\n",
    "In this exercise, we will proceed in steps to perform rejection sampling of a [beta random variable](https://docs.scipy.org/doc/scipy/reference/generated/scipy.stats.beta.html) using a [triangular random variable](https://docs.scipy.org/doc/scipy/reference/generated/scipy.stats.triang.html) as candidate."
   ]
  },
  {
   "cell_type": "markdown",
   "metadata": {},
   "source": [
    "## 2.1\n",
    "Plot an overlay of a beta PDF and a triangular PDF with the following parameters:\n",
    "- For the beta PDF, a=2, b=2, loc=0, scale=1.\n",
    "- For the triangular PDF, c=0.50, loc=0, scale=1."
   ]
  },
  {
   "cell_type": "code",
   "execution_count": 10,
   "metadata": {},
   "outputs": [],
   "source": [
    "import scipy\n",
    "from scipy.stats import triang\n",
    "from scipy.stats import beta\n",
    "import matplotlib.pyplot as plt\n",
    "import numpy as np"
   ]
  },
  {
   "cell_type": "code",
   "execution_count": 11,
   "metadata": {},
   "outputs": [
    {
     "data": {
      "image/png": "[encoded data removed]",
      "text/plain": [
       "<Figure size 432x288 with 1 Axes>"
      ]
     },
     "metadata": {
      "needs_background": "light"
     },
     "output_type": "display_data"
    }
   ],
   "source": [
    "fig, ax = plt.subplots(1, 1)\n",
    "# for triangular pdf\n",
    "c = 0.50\n",
    "x = np.linspace(0, 1, 100)\n",
    "ax.plot(x, triang.pdf(x, c, loc = 0, scale = 1), 'r-', lw=5, alpha=0.6, label='triangular pdf')\n",
    "\n",
    "# for beta pdf\n",
    "a, b = 2, 2\n",
    "ax.plot(x, beta.pdf(x, a, b, loc = 0, scale = 1), 'b-', lw=5, alpha=0.6, label='beta pdf')\n",
    "\n",
    "ax.legend(loc='best', frameon=False)\n",
    "plt.show() "
   ]
  },
  {
   "cell_type": "markdown",
   "metadata": {},
   "source": [
    "## 2.2\n",
    "We will perform 10,000 trials of the rejection sampling procedure. Simulate and store 10,000 random variables distributed as $\\text{Uniform}[0,1]$ using random state 436. Simulate and store 10,000 triangular random variables from the specified triangular distribution using random state 636."
   ]
  },
  {
   "cell_type": "code",
   "execution_count": 12,
   "metadata": {},
   "outputs": [],
   "source": [
    "import numpy as np\n",
    "\n",
    "# 10,000 random variables distributed as  Uniform[0,1]\n",
    "np.random.seed(436)\n",
    "uniforms = np.random.uniform(low=0.0, high=1.0, size=10000)\n",
    "\n",
    "# 10,000 triangular random variables\n",
    "np.random.seed(636)\n",
    "triangulars = np.random.triangular(0, 0.5, 1, size = 10000)"
   ]
  },
  {
   "cell_type": "markdown",
   "metadata": {},
   "source": [
    "## 2.3\n",
    "Let $f$ be the beta PDF and $g$ the triangular PDF. Using 1.50 as an estimate of $\\sup f/g$, generate samples from the beta distribution by rejection sampling. Store your samples. Print the number of samples you obtain."
   ]
  },
  {
   "cell_type": "markdown",
   "metadata": {},
   "source": [
    "Let $k = 1.5$, than $f \\le k  g$."
   ]
  },
  {
   "cell_type": "code",
   "execution_count": 13,
   "metadata": {},
   "outputs": [
    {
     "name": "stdout",
     "output_type": "stream",
     "text": [
      "number of samples saved for beta: 6674\n"
     ]
    }
   ],
   "source": [
    "# rejection sampling\n",
    "\n",
    "saved_beta_samples = []\n",
    "for i in range(10000):\n",
    "    # sample from the triangular distribution\n",
    "    sample_tri = triangulars[i]\n",
    "    # uniform sampling from [0, 1.5 * g(sample_tri)]\n",
    "    sample_uniform = 1.5 * triang.pdf(sample_tri, c, loc = 0, scale = 1) * uniforms[i]\n",
    "    if sample_uniform < beta.pdf(sample_tri, a, b, loc = 0, scale = 1):\n",
    "        saved_beta_samples.append(sample_tri)\n",
    "        \n",
    "print(\"number of samples saved for beta: {}\".format(len(saved_beta_samples)))"
   ]
  },
  {
   "cell_type": "markdown",
   "metadata": {},
   "source": [
    "## 2.4\n",
    "Plot a density histogram of your samples overlaid with the beta and triangular PDFs. Use 100 bins."
   ]
  },
  {
   "cell_type": "code",
   "execution_count": 14,
   "metadata": {},
   "outputs": [
    {
     "name": "stderr",
     "output_type": "stream",
     "text": [
      "C:\\ProgramData\\Anaconda3\\lib\\site-packages\\matplotlib\\axes\\_axes.py:6571: UserWarning: The 'normed' kwarg is deprecated, and has been replaced by the 'density' kwarg.\n",
      "  warnings.warn(\"The 'normed' kwarg is deprecated, and has been \"\n"
     ]
    },
    {
     "data": {
      "image/png": "[encoded data removed]",
      "text/plain": [
       "<Figure size 432x288 with 1 Axes>"
      ]
     },
     "metadata": {
      "needs_background": "light"
     },
     "output_type": "display_data"
    }
   ],
   "source": [
    "fig, ax = plt.subplots(1, 1)\n",
    "# for triangular pdf\n",
    "c = 0.50\n",
    "x = np.linspace(0, 1, 100)\n",
    "ax.plot(x, 1.5 * triang.pdf(x, c, loc = 0, scale = 1), 'r-', lw=5, alpha=0.6, label='1.5 x triangular pdf')\n",
    "\n",
    "# for beta pdf\n",
    "a, b = 2, 2\n",
    "ax.plot(x, beta.pdf(x, a, b, loc = 0, scale = 1), 'b-', lw=5, alpha=0.6, label='beta pdf')\n",
    "\n",
    "plt.hist(saved_beta_samples,bins=100, normed=True, edgecolor='black', label = \"density histogram\")\n",
    "\n",
    "ax.legend(loc='best', frameon=False)\n",
    "plt.show()"
   ]
  },
  {
   "cell_type": "markdown",
   "metadata": {},
   "source": [
    "# Problem 3"
   ]
  },
  {
   "cell_type": "markdown",
   "metadata": {},
   "source": [
    "## 3.1\n",
    "The Epanechnikov kernel is defined by\n",
    "$$K(u) = \\frac{3}{4}\\left(1 - u^{2}\\right)\\qquad\\text{for }\\lvert u \\rvert \\leq 1$$\n",
    "Perform Epanechnikov kernel density estimation on 1,000 simulated samples from a [lognormal distribution](https://docs.scipy.org/doc/scipy/reference/generated/scipy.stats.lognorm.html) with s=1 and random state 636. Use a bandwidth of 2.0. Plot the density estimate over the support of the lognormal distribution. (You can use 2 times the maximum of your samples as an upper bound for the support.)"
   ]
  },
  {
   "cell_type": "code",
   "execution_count": 15,
   "metadata": {},
   "outputs": [],
   "source": [
    "# 1,000 simulated samples from a lognormal distribution\n",
    "np.random.seed(636)\n",
    "lognormals = np.random.lognormal(mean = 0, sigma = 1, size = 1000)"
   ]
  },
  {
   "cell_type": "code",
   "execution_count": 16,
   "metadata": {},
   "outputs": [],
   "source": [
    "def Epanechnikov_kernel_density(x0):\n",
    "    bias = (lognormals - x0) / 2.0\n",
    "    bias_cliped = np.clip(bias, -1, 1)\n",
    "    kernel = 0.75 * (1 - bias_cliped ** 2)\n",
    "    return kernel.sum() / (2 * len(lognormals))"
   ]
  },
  {
   "cell_type": "code",
   "execution_count": 17,
   "metadata": {},
   "outputs": [],
   "source": [
    "support = np.sort(lognormals)\n",
    "predict_density = np.zeros(1000)\n",
    "for idx in range(1000):\n",
    "    predict_density[idx] = Epanechnikov_kernel_density(support[idx])\n",
    "    \n",
    "# the PDF must be normalized\n",
    "predict_density /= scipy.integrate.trapz(predict_density, support)"
   ]
  },
  {
   "cell_type": "code",
   "execution_count": 18,
   "metadata": {},
   "outputs": [
    {
     "name": "stderr",
     "output_type": "stream",
     "text": [
      "C:\\ProgramData\\Anaconda3\\lib\\site-packages\\matplotlib\\axes\\_axes.py:6571: UserWarning: The 'normed' kwarg is deprecated, and has been replaced by the 'density' kwarg.\n",
      "  warnings.warn(\"The 'normed' kwarg is deprecated, and has been \"\n"
     ]
    },
    {
     "data": {
      "image/png": "[encoded data removed]",
      "text/plain": [
       "<Figure size 432x288 with 1 Axes>"
      ]
     },
     "metadata": {
      "needs_background": "light"
     },
     "output_type": "display_data"
    }
   ],
   "source": [
    "fig, ax = plt.subplots(1, 1)\n",
    "\n",
    "ax.plot(support, predict_density, 'r-', lw=5, alpha=0.6, label='estimate density')\n",
    "plt.hist(lognormals,bins=100, normed=True, edgecolor='black', label = \"density histogram\")\n",
    "\n",
    "ax.legend(loc='best', frameon=False)\n",
    "plt.show()"
   ]
  },
  {
   "cell_type": "markdown",
   "metadata": {},
   "source": [
    "## 3.2\n",
    "Test whether the estimate integrates to unity over the support of the lognormal distribution."
   ]
  },
  {
   "cell_type": "code",
   "execution_count": 19,
   "metadata": {},
   "outputs": [
    {
     "data": {
      "text/plain": [
       "1.0"
      ]
     },
     "execution_count": 19,
     "metadata": {},
     "output_type": "execute_result"
    }
   ],
   "source": [
    "scipy.integrate.trapz(predict_density, support)"
   ]
  },
  {
   "cell_type": "markdown",
   "metadata": {},
   "source": [
    "## 3.3\n",
    "Explain the results of your integration."
   ]
  },
  {
   "cell_type": "markdown",
   "metadata": {},
   "source": [
    "### _Answer:_\n",
    "\n",
    "As the density was estimated on finite sampled data, the integration will be smaller than 1. Thus we have to normalize it by `scipy.integrate.trapz`"
   ]
  },
  {
   "cell_type": "markdown",
   "metadata": {},
   "source": [
    "# Problem 4"
   ]
  },
  {
   "cell_type": "markdown",
   "metadata": {},
   "source": [
    "## 4.1\n",
    "Below we load the [Boston house prices dataset](https://scikit-learn.org/stable/datasets/toy_dataset.html#boston-dataset). We also store the labels of the predictor variables for you.\n",
    "\n",
    "Our goal will be to predict house price (MEDV) by regression. Split the dataset into a training and test set using 1/3 as the test size and a random state of 553. Use the function [_train_test_split_](https://scikit-learn.org/stable/modules/generated/sklearn.model_selection.train_test_split.html) from _sklearn.model_selection_ for this purpose."
   ]
  },
  {
   "cell_type": "code",
   "execution_count": 20,
   "metadata": {},
   "outputs": [],
   "source": [
    "# Loading data:\n",
    "\n",
    "# Import function for loading the 'boston' dataset.\n",
    "from sklearn.datasets import load_boston\n",
    "# Load a 'bunch' containing data and descriptions.\n",
    "boston_bunch = load_boston()\n",
    "# Extract and store predictor variables.\n",
    "X = boston_bunch.data\n",
    "# Extract and store the variable that is the target for prediction.\n",
    "y = boston_bunch.target\n",
    "# Extract and store labels of predictor variables.\n",
    "labels = boston_bunch.feature_names"
   ]
  },
  {
   "cell_type": "code",
   "execution_count": 21,
   "metadata": {},
   "outputs": [
    {
     "data": {
      "text/plain": [
       "array(['CRIM', 'ZN', 'INDUS', 'CHAS', 'NOX', 'RM', 'AGE', 'DIS', 'RAD',\n",
       "       'TAX', 'PTRATIO', 'B', 'LSTAT'], dtype='<U7')"
      ]
     },
     "execution_count": 21,
     "metadata": {},
     "output_type": "execute_result"
    }
   ],
   "source": [
    "labels"
   ]
  },
  {
   "cell_type": "code",
   "execution_count": 22,
   "metadata": {},
   "outputs": [],
   "source": [
    "# Your code:\n",
    "from sklearn.model_selection import train_test_split\n",
    "X_train, X_test, y_train, y_test = train_test_split(X, y, test_size=1 / 3, random_state=553)"
   ]
  },
  {
   "cell_type": "markdown",
   "metadata": {},
   "source": [
    "## 4.2\n",
    "Fit three different linear models on the training set by ordinary least squares (OLS): \n",
    "- A model using all predictor variables.\n",
    "- A model using only AGE, NOX, DIS, and RAD as predictor variables.\n",
    "- A model using all polynomial combinations of degree $\\leq 2$ of the original thirteen predictor variables."
   ]
  },
  {
   "cell_type": "code",
   "execution_count": 23,
   "metadata": {},
   "outputs": [],
   "source": [
    "from sklearn import linear_model\n",
    "from sklearn.metrics import mean_squared_error, r2_score"
   ]
  },
  {
   "cell_type": "code",
   "execution_count": 24,
   "metadata": {},
   "outputs": [
    {
     "data": {
      "text/plain": [
       "LinearRegression(copy_X=True, fit_intercept=True, n_jobs=1, normalize=False)"
      ]
     },
     "execution_count": 24,
     "metadata": {},
     "output_type": "execute_result"
    }
   ],
   "source": [
    "model_all_variables = linear_model.LinearRegression()\n",
    "model_all_variables.fit(X_train, y_train)"
   ]
  },
  {
   "cell_type": "code",
   "execution_count": 25,
   "metadata": {},
   "outputs": [
    {
     "data": {
      "text/plain": [
       "LinearRegression(copy_X=True, fit_intercept=True, n_jobs=1, normalize=False)"
      ]
     },
     "execution_count": 25,
     "metadata": {},
     "output_type": "execute_result"
    }
   ],
   "source": [
    "# get  AGE, NOX, DIS, and RAD as sub variables.\n",
    "X_train_sub = X_train[:, [6, 4, 7, 8]]\n",
    "model_four_variables = linear_model.LinearRegression()\n",
    "model_four_variables.fit(X_train_sub, y_train)"
   ]
  },
  {
   "cell_type": "code",
   "execution_count": 26,
   "metadata": {},
   "outputs": [],
   "source": [
    "from sklearn.preprocessing import PolynomialFeatures\n",
    "# augment the features with PolynomialFeatures\n",
    "transformed_data = PolynomialFeatures(2).fit_transform(X_train)"
   ]
  },
  {
   "cell_type": "code",
   "execution_count": 27,
   "metadata": {},
   "outputs": [
    {
     "data": {
      "text/plain": [
       "LinearRegression(copy_X=True, fit_intercept=True, n_jobs=1, normalize=False)"
      ]
     },
     "execution_count": 27,
     "metadata": {},
     "output_type": "execute_result"
    }
   ],
   "source": [
    "model_poly = linear_model.LinearRegression()\n",
    "model_poly.fit(transformed_data, y_train)"
   ]
  },
  {
   "cell_type": "markdown",
   "metadata": {},
   "source": [
    "## 4.3\n",
    "For model assessment, print the following for each of the three models:\n",
    "- The $R^{2}$ of the predictions on the training set.\n",
    "- The $R^{2}$ of the predictions on the test set.\n",
    "- Predicted MEDV for the first five sample points in the test set.\n",
    "- True MEDV for the first five sample points in the test set."
   ]
  },
  {
   "cell_type": "code",
   "execution_count": 28,
   "metadata": {},
   "outputs": [
    {
     "name": "stdout",
     "output_type": "stream",
     "text": [
      "The R_square of the predictions on the training set for each of the three models\n",
      "\n",
      "model_all_variables: 0.6955852455841397, model_four_variables: -1.5522962215798466, model_poly: 0.9036520389901588\n"
     ]
    }
   ],
   "source": [
    "print(\"The R_square of the predictions on the training set for each of the three models\\n\")\n",
    "print(\"model_all_variables: {}, model_four_variables: {}, model_poly: {}\".format(r2_score(model_all_variables.predict(X_train), y_train), \n",
    "     r2_score(model_four_variables.predict(X_train_sub), y_train), r2_score(model_poly.predict(transformed_data), y_train)))"
   ]
  },
  {
   "cell_type": "code",
   "execution_count": 29,
   "metadata": {},
   "outputs": [
    {
     "name": "stdout",
     "output_type": "stream",
     "text": [
      "The R_square of the predictions on the test set for each of the three models\n",
      "\n",
      "model_all_variables: 0.5651168642865123, model_four_variables: -2.048627685966301, model_poly: 0.743768255776068\n"
     ]
    }
   ],
   "source": [
    "X_test_sub = X_test[:, [6, 4, 7, 8]]\n",
    "transformed_test_data = PolynomialFeatures(2).fit_transform(X_test)\n",
    "print(\"The R_square of the predictions on the test set for each of the three models\\n\")\n",
    "print(\"model_all_variables: {}, model_four_variables: {}, model_poly: {}\".format(r2_score(model_all_variables.predict(X_test), y_test), \n",
    "     r2_score(model_four_variables.predict(X_test_sub), y_test), r2_score(model_poly.predict(transformed_test_data), y_test)))"
   ]
  },
  {
   "cell_type": "code",
   "execution_count": 30,
   "metadata": {},
   "outputs": [
    {
     "name": "stdout",
     "output_type": "stream",
     "text": [
      "The Predicted MEDV for the first five sample points in the test set.\n",
      "\n",
      "model_all_variables: [24.26407162 12.12360834 27.6804514  24.12294704 21.83492858]\n",
      "model_four_variables: [27.88749751 15.41806533 25.36918791 24.09219392 26.37783049]\n",
      "model_poly: [25.02070379  9.37744761 30.67200685 17.71519446 21.92936015]\n"
     ]
    }
   ],
   "source": [
    "print(\"The Predicted MEDV for the first five sample points in the test set.\\n\")\n",
    "print(\"model_all_variables: {}\\nmodel_four_variables: {}\\nmodel_poly: {}\".format(model_all_variables.predict(X_test)[:5], \n",
    "                                                                                     model_four_variables.predict(X_test_sub)[:5],\n",
    "                                                                                     model_poly.predict(transformed_test_data)[:5]))"
   ]
  },
  {
   "cell_type": "code",
   "execution_count": 31,
   "metadata": {},
   "outputs": [
    {
     "name": "stdout",
     "output_type": "stream",
     "text": [
      "True MEDV for the first five sample points in the test set: [24.6  5.6 27.1 21.9 20. ]\n"
     ]
    }
   ],
   "source": [
    "print(\"True MEDV for the first five sample points in the test set: {}\".format(y_test[:5]))"
   ]
  },
  {
   "cell_type": "markdown",
   "metadata": {},
   "source": [
    "## 4.4\n",
    "Comment on your results in 4.3, which model do you think is the best? Explain you answer."
   ]
  },
  {
   "cell_type": "markdown",
   "metadata": {},
   "source": [
    "### _Answer:_\n",
    "\n",
    "As the relationship between the target and predictor variables is not linear, poly regression performs best. Besides, using only a few features for linear regression is not enough."
   ]
  },
  {
   "cell_type": "markdown",
   "metadata": {},
   "source": [
    "## 4.5\n",
    "Consider the linear regression model using all original features you built above. Holding all other variables equal, what effect does the model predict that an increase in 0.1 parts per 10 million nitric oxide concentration in a place will have on the median value of of owner-occupied homes in that place? Write code that will return and print the answer."
   ]
  },
  {
   "cell_type": "code",
   "execution_count": 32,
   "metadata": {},
   "outputs": [
    {
     "data": {
      "text/plain": [
       "array([-1.08863525e-01,  4.86699529e-02,  6.07055831e-02,  2.40996656e+00,\n",
       "       -1.65454672e+01,  4.05458142e+00,  1.53059355e-02, -1.24176460e+00,\n",
       "        3.72495355e-01, -1.52879448e-02, -9.40760323e-01,  1.03095104e-02,\n",
       "       -5.43391151e-01])"
      ]
     },
     "execution_count": 32,
     "metadata": {},
     "output_type": "execute_result"
    }
   ],
   "source": [
    "model_all_variables.coef_"
   ]
  },
  {
   "cell_type": "code",
   "execution_count": 33,
   "metadata": {},
   "outputs": [
    {
     "name": "stdout",
     "output_type": "stream",
     "text": [
      "It will increase by value -1.6545467178967308\n"
     ]
    }
   ],
   "source": [
    "print(\"It will increase by value {}\".format(model_all_variables.coef_[4] * 0.1))"
   ]
  },
  {
   "cell_type": "code",
   "execution_count": null,
   "metadata": {},
   "outputs": [],
   "source": []
  }
 ],
 "metadata": {
  "kernelspec": {
   "display_name": "Python 3",
   "language": "python",
   "name": "python3"
  },
  "language_info": {
   "codemirror_mode": {
    "name": "ipython",
    "version": 3
   },
   "file_extension": ".py",
   "mimetype": "text/x-python",
   "name": "python",
   "nbconvert_exporter": "python",
   "pygments_lexer": "ipython3",
   "version": "3.7.0"
  },
  "varInspector": {
   "cols": {
    "lenName": 16,
    "lenType": 16,
    "lenVar": 40
   },
   "kernels_config": {
    "python": {
     "delete_cmd_postfix": "",
     "delete_cmd_prefix": "del ",
     "library": "var_list.py",
     "varRefreshCmd": "print(var_dic_list())"
    },
    "r": {
     "delete_cmd_postfix": ") ",
     "delete_cmd_prefix": "rm(",
     "library": "var_list.r",
     "varRefreshCmd": "cat(var_dic_list()) "
    }
   },
   "types_to_exclude": [
    "module",
    "function",
    "builtin_function_or_method",
    "instance",
    "_Feature"
   ],
   "window_display": false
  }
 },
 "nbformat": 4,
 "nbformat_minor": 5
}
