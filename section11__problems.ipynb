{
 "cells": [
  {
   "cell_type": "code",
   "execution_count": 16,
   "metadata": {},
   "outputs": [],
   "source": [
    "from sklearn import datasets\n",
    "import numpy as np"
   ]
  },
  {
   "cell_type": "markdown",
   "metadata": {},
   "source": [
    "### Problem 1"
   ]
  },
  {
   "cell_type": "markdown",
   "metadata": {},
   "source": [
    "Implement your own K-means algorithm through the following method:\n",
    "##### Algorithm\n",
    "\n",
    "- Iteratively improving the $\\mu_i$ **prototypes** of $k$ clusters\n",
    "\n",
    ">1. Pick $k$ random objects as the initial $\\mu_i$ prototypes\n",
    ">0. Find for each object the closest prototype and assign to that cluster\n",
    ">0. Calculate the averages for each cluster to get new $\\mu_i$\n",
    ">0. Repeat until convergence\n"
   ]
  },
  {
   "cell_type": "code",
   "execution_count": null,
   "metadata": {},
   "outputs": [],
   "source": []
  },
  {
   "cell_type": "markdown",
   "metadata": {},
   "source": [
    "#### Problem 1.2.1\n",
    "\n",
    " Use the sklearn kmeans clustering algorithm, and the wine quality data set from sklearn. Using the elbow curve, decide how many clusters to use. "
   ]
  },
  {
   "cell_type": "code",
   "execution_count": 1,
   "metadata": {},
   "outputs": [],
   "source": [
    "from sklearn.datasets import load_wine\n",
    "from sklearn.cluster import KMeans\n",
    "import matplotlib.pyplot as plt\n",
    "wine_dataset = load_wine()\n"
   ]
  },
  {
   "cell_type": "markdown",
   "metadata": {},
   "source": [
    "### Answer\n",
    "Either 2 or 3 values makes sense.\n",
    "\n",
    "\n",
    "### 1.2.2 Plot Kmeans prediction\n",
    "Take the prediction by Kmeans on the full dataset, and plot it, selecting two features to plot. \n",
    "If you need me to specifically give you direction as to which features to use, you may use the first and second feature, which are the content of alcohol and malic acid.\n",
    "\n",
    "Plot the same columns with the true values shown. Compare your predicted scatter plot to the correct one."
   ]
  },
  {
   "cell_type": "code",
   "execution_count": null,
   "metadata": {},
   "outputs": [],
   "source": []
  },
  {
   "cell_type": "markdown",
   "metadata": {},
   "source": [
    "### Plot GMM Prediction \n",
    "After training your GMM on the full data set, select the same two columns you chose above, and plot the predicted and true values, as you did above. (in two separate plots)\n"
   ]
  },
  {
   "cell_type": "code",
   "execution_count": null,
   "metadata": {},
   "outputs": [],
   "source": []
  },
  {
   "cell_type": "markdown",
   "metadata": {},
   "source": [
    "### Plot Spectral Clustering Predictions\n",
    "After training your Spectral Clustering on the full data set, select the same two columns you chose above, and plot the predicted and true values, as you did above. (in two separate plots)\n"
   ]
  },
  {
   "cell_type": "code",
   "execution_count": null,
   "metadata": {},
   "outputs": [],
   "source": []
  },
  {
   "cell_type": "markdown",
   "metadata": {},
   "source": [
    "### Write down your observations on how each of the models did include some thoughts on why they performed this way."
   ]
  },
  {
   "cell_type": "markdown",
   "metadata": {},
   "source": [
    "### Problem 2 Image compression using KMeans\n",
    "\n",
    "Use the image file provided. Note that this is an mxnx3 sized matrix. \n",
    "We can compress this into a single mxn matrix with a vector of k = (number of clusters) as a reference by clustering the values so we don't need so many different rgb values.\n",
    "\n",
    "Suggested steps: \n",
    "1. load the image file using matplotlib.image. \n",
    "0. Consider dividing the array by 255 to bring it to float values of rgb instead of integer values.\n",
    "0. Unravel the resulting numpy array into a long array with many entries with length 3. (each representing rgb values)\n",
    "0. Train KMeans on it\n",
    "0. Go back to the original image array, and replace the rgb values with the centroid values that they are predicted to belong to.\n",
    "\n",
    "The fact that there are now only a few unique values in the array means that you could replace the entire image with a much smaller file, by having an array saying which centroid to use, and another array containing the values of the centroids.\n",
    "\n",
    "Display both image files, and ask your friends to guess which one is the compressed one. \n",
    "\n",
    "(for appropriately chosen k, I could get about 50% of my friends to guess that the compressed one was actually the original one)\n",
    "\n"
   ]
  },
  {
   "cell_type": "code",
   "execution_count": 247,
   "metadata": {},
   "outputs": [],
   "source": [
    "import matplotlib.image as mpimg\n",
    "img=mpimg.imread('gibbon.jpg')/255"
   ]
  },
  {
   "cell_type": "code",
   "execution_count": 237,
   "metadata": {},
   "outputs": [],
   "source": [
    "#Hint: train_set = np.array([img[j,i,:] for j in range(img.shape[0]) for i in range(img.shape[1])])"
   ]
  }
 ],
 "metadata": {
  "kernelspec": {
   "display_name": "Python 3",
   "language": "python",
   "name": "python3"
  },
  "language_info": {
   "codemirror_mode": {
    "name": "ipython",
    "version": 3
   },
   "file_extension": ".py",
   "mimetype": "text/x-python",
   "name": "python",
   "nbconvert_exporter": "python",
   "pygments_lexer": "ipython3",
   "version": "3.8.3"
  }
 },
 "nbformat": 4,
 "nbformat_minor": 4
}
