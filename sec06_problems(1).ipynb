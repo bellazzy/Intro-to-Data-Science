{
 "cells": [
  {
   "cell_type": "markdown",
   "metadata": {},
   "source": [
    "# Section 06 \n",
    "### Introduction to Data Science EN.553.436/EN.553.636 - Fall 2021"
   ]
  },
  {
   "cell_type": "markdown",
   "metadata": {},
   "source": [
    "# 1. Bayesian Parameter Estimation"
   ]
  },
  {
   "cell_type": "markdown",
   "metadata": {},
   "source": [
    "## Problem 1\n",
    "Load the following samples."
   ]
  },
  {
   "cell_type": "code",
   "execution_count": 3,
   "metadata": {},
   "outputs": [],
   "source": [
    "import numpy as np\n",
    "X1 = np.array([ 1.62434536, -0.61175641, -0.52817175, -2.07296862,  3.86540763])\n",
    "X2= np.array([-0.41675785, -0.05626683, -2.1361961 ,  1.64027081, -1.79343559, -0.84174737,  0.50288142, -1.24528809, -1.05795222, -0.90900761])"
   ]
  },
  {
   "cell_type": "markdown",
   "metadata": {},
   "source": [
    "## 1.1\n",
    "$X_1$ and $X_2$ are samples from the same distribution.  You are certain that they were collected from a $\\mathcal{N}(\\mu, \\sigma^2 = 1)$ distribution, where $\\mu$ is unknown.  Write a Python function that computes the posterior density of $\\mu$ given *any* sample; let the prior distribution of $\\mu$ be $\\mathcal{N}(3, 1)$."
   ]
  },
  {
   "cell_type": "markdown",
   "metadata": {},
   "source": [
    "Ensure that your posterior density is in fact a density (which requires that it integrate to 1).  It may be helpful to use np.trapz()."
   ]
  },
  {
   "cell_type": "code",
   "execution_count": null,
   "metadata": {},
   "outputs": [],
   "source": []
  },
  {
   "cell_type": "markdown",
   "metadata": {},
   "source": [
    "## 1.2\n",
    "What does this prior density suggest our our beliefs regarding $\\mu$?  How could we adjust this prior to reflect more/less confident prior beliefs about $\\mu$?"
   ]
  },
  {
   "cell_type": "code",
   "execution_count": null,
   "metadata": {},
   "outputs": [],
   "source": []
  },
  {
   "cell_type": "markdown",
   "metadata": {},
   "source": [
    "## 1.3\n",
    "Plot the prior distribution of $\\mu$, the posterior distribution of $\\mu$ given $X1$, and the posterior distribution of $\\mu$ given $X1$ and $X2$."
   ]
  },
  {
   "cell_type": "code",
   "execution_count": null,
   "metadata": {},
   "outputs": [],
   "source": []
  },
  {
   "cell_type": "markdown",
   "metadata": {},
   "source": [
    "## 1.4\n",
    "Do these plots suggest that our prior beliefs about $\\mu$ were (approximately) correct?  Explain.\n",
    "If not, provide an estimate for $\\mu$ based on the posterior density obtained using $X_1$ and $X_2$."
   ]
  },
  {
   "cell_type": "code",
   "execution_count": null,
   "metadata": {},
   "outputs": [],
   "source": []
  },
  {
   "cell_type": "markdown",
   "metadata": {},
   "source": [
    "## 1.5\n",
    "Repeat problem 1.1 (creating a function to compute the posterior density given the sample) and 1.3 (ploting the prior and posterior distributions of $\\mu$), except employ the prior $f$ where $f(x) = 1$ for $-2 \\leq x \\leq -2$ and $f(x) = 0$ otherwise. Also, answer the following:\n",
    " 1. $f$ isn't a density (i.e., $f$ is an improper prior), but why doesn't that matter?\n",
    " 2. What beliefs about the the true distribution from which our sample was drawn does this prior encode?  How confident are these beliefs?"
   ]
  },
  {
   "cell_type": "code",
   "execution_count": null,
   "metadata": {},
   "outputs": [],
   "source": []
  },
  {
   "cell_type": "markdown",
   "metadata": {},
   "source": [
    "# 2. Sampling via Metropolis-Hastings"
   ]
  },
  {
   "cell_type": "markdown",
   "metadata": {},
   "source": [
    "## Problem 2"
   ]
  },
  {
   "cell_type": "markdown",
   "metadata": {},
   "source": [
    "## 2.1\n",
    "We want to generate a sample $\\{\\theta_i\\}$ of 10000 points from the distribution with density function $f$ such that\n",
    "\n",
    "$$f(x) \\propto x^{2}(1-x)^{5}$$\n",
    "\n",
    "for $0 \\leq x \\leq 1$ and $f(x) = 0$ otherwise.  As the generating distribution for $\\theta_i$, use $\\Gamma(4\\theta_{i-1}, \\frac{1}{4})$.  To initialize, set $\\theta_0 = 0.5$."
   ]
  },
  {
   "cell_type": "code",
   "execution_count": null,
   "metadata": {},
   "outputs": [],
   "source": []
  },
  {
   "cell_type": "markdown",
   "metadata": {},
   "source": [
    "## 2.2\n",
    "Plot a density histogram of your sample.  Overlay the histogram with a plot of the true density of $f$ (this requires that you determine the normalizing constant needed to make $f$ a density)."
   ]
  },
  {
   "cell_type": "code",
   "execution_count": null,
   "metadata": {},
   "outputs": [],
   "source": []
  }
 ],
 "metadata": {
  "kernelspec": {
   "display_name": "Python 3",
   "language": "python",
   "name": "python3"
  },
  "language_info": {
   "codemirror_mode": {
    "name": "ipython",
    "version": 3
   },
   "file_extension": ".py",
   "mimetype": "text/x-python",
   "name": "python",
   "nbconvert_exporter": "python",
   "pygments_lexer": "ipython3",
   "version": "3.7.6"
  }
 },
 "nbformat": 4,
 "nbformat_minor": 4
}
