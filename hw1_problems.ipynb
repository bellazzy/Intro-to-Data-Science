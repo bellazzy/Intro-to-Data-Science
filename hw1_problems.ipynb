{
 "cells": [
  {
   "cell_type": "markdown",
   "id": "248ad18c",
   "metadata": {},
   "source": [
    "# Homework 1\n",
    "### Introduction to Data Science EN.553.436/EN.553.636 - Fall 2021\n",
    "\n",
    "Due date: Wednesday, September 22 at midnight."
   ]
  },
  {
   "cell_type": "markdown",
   "id": "179ab7dc",
   "metadata": {},
   "source": [
    "## Guidelines\n",
    "* Answer in the cells immediately below the problem statements. If a problem calls for code, a code cell will follow. If a problem calls for a text response, a Markdown cell will follow.\n",
    "* Your code should include some comments. Insufficient commentary may result in loss of points. But you do not necessarily need to comment every line or problem. Further guidelines:\n",
    "    - If the the meaning of some line of code would be obvious to the average Python novice, you do not need to comment (e.g., you do not need to comment _import numpy_). \n",
    "    - If your code is moderately complex, you should comment (e.g., if you nest several functions in one line, you should comment). \n",
    "    - It may be proper to comment before a code block to describe generally what you are doing (e.g., you should comment before a function definition to explain the function and its parameters)."
   ]
  },
  {
   "cell_type": "markdown",
   "id": "8cb62d85",
   "metadata": {},
   "source": [
    "# Problem 1"
   ]
  },
  {
   "cell_type": "markdown",
   "id": "8a7afdc9",
   "metadata": {},
   "source": [
    "## 1.1\n",
    "Load the _lowbwt_ dataset from the OpenML repository as a Pandas DataFrame from following URL: https://www.openml.org/data/get_csv/3640/dataset_2189_lowbwt.arff. Use a function that is able to handle loading the data directly into Jupyter from the URL. The function should take the URL as an argument. **Do not load the data using a filepath on your hard drive:** again, load the data directly into Jupyter using the URL.\n",
    "\n",
    "Print the loaded DataFrame. Read the [description](https://www.openml.org/d/203) of the dataset to better understand it. Check the column names and values to see if they match the variables discussed in the description. One or more variables may have been renamed."
   ]
  },
  {
   "cell_type": "code",
   "execution_count": null,
   "id": "c9da2e01",
   "metadata": {
    "scrolled": true
   },
   "outputs": [],
   "source": []
  },
  {
   "cell_type": "markdown",
   "id": "571d8bdc",
   "metadata": {},
   "source": [
    "## 1.2\n",
    "From the full DataFrame, extract and print a DataFrame with the birthweight column (and only the birthweight column) for mothers who smoked during pregnancy and had low-birthweight deliveries."
   ]
  },
  {
   "cell_type": "code",
   "execution_count": null,
   "id": "a05a95f5",
   "metadata": {},
   "outputs": [],
   "source": []
  },
  {
   "cell_type": "markdown",
   "id": "05b58d44",
   "metadata": {},
   "source": [
    "## 1.3\n",
    "Print the following statistics for the birthweights in the original full dataset:\n",
    "- Standard deviation\n",
    "- 0.16 Quantile\n",
    "- Mean\n",
    "- Median\n",
    "- 0.84 Quantile\n",
    "\n",
    "Afterwards, print the same statistics for the birthweights in the subset you selected in 1.2."
   ]
  },
  {
   "cell_type": "code",
   "execution_count": null,
   "id": "cbd9adef",
   "metadata": {
    "scrolled": true
   },
   "outputs": [],
   "source": []
  },
  {
   "cell_type": "markdown",
   "id": "161ecee4",
   "metadata": {},
   "source": [
    "## 1.4\n",
    "Plot two density histograms: one for the birthweights in the full dataset, and one for the birthweights in the subset you selected in 1.2. Label the histograms."
   ]
  },
  {
   "cell_type": "code",
   "execution_count": null,
   "id": "f5963a5c",
   "metadata": {},
   "outputs": [],
   "source": []
  },
  {
   "cell_type": "markdown",
   "id": "19d2b9c2",
   "metadata": {},
   "source": [
    "## 1.5\n",
    "Is a normal distribution a plausible model for birthweight in either of the two datasets? Back up your answer using the previous results. This image of a normal PDF may be useful:\n",
    "\n",
    "\n",
    "![Normal PDF](bell-curve.jpg)"
   ]
  },
  {
   "cell_type": "markdown",
   "id": "a6fd116e",
   "metadata": {},
   "source": [
    "### _Answer:_"
   ]
  },
  {
   "cell_type": "markdown",
   "id": "d44b6864",
   "metadata": {},
   "source": [
    "# Problem 2\n",
    "In this exercise, we will proceed in steps to perform rejection sampling of a [beta random variable](https://docs.scipy.org/doc/scipy/reference/generated/scipy.stats.beta.html) using a [triangular random variable](https://docs.scipy.org/doc/scipy/reference/generated/scipy.stats.triang.html) as candidate."
   ]
  },
  {
   "cell_type": "markdown",
   "id": "a6887a8e",
   "metadata": {},
   "source": [
    "## 2.1\n",
    "Plot an overlay of a beta PDF and a triangular PDF with the following parameters:\n",
    "- For the beta PDF, a=2, b=2, loc=0, scale=1.\n",
    "- For the triangular PDF, c=0.50, loc=0, scale=1."
   ]
  },
  {
   "cell_type": "code",
   "execution_count": null,
   "id": "1db616bb",
   "metadata": {},
   "outputs": [],
   "source": []
  },
  {
   "cell_type": "markdown",
   "id": "dc2eaa1e",
   "metadata": {},
   "source": [
    "## 2.2\n",
    "We will perform 10,000 trials of the rejection sampling procedure. Simulate and store 10,000 random variables distributed as $\\text{Uniform}[0,1]$ using random state 436. Simulate and store 10,000 triangular random variables from the specified triangular distribution using random state 636."
   ]
  },
  {
   "cell_type": "code",
   "execution_count": null,
   "id": "177f2a49",
   "metadata": {},
   "outputs": [],
   "source": []
  },
  {
   "cell_type": "markdown",
   "id": "c073366a",
   "metadata": {},
   "source": [
    "## 2.3\n",
    "Let $f$ be the beta PDF and $g$ the triangular PDF. Using 1.50 as an estimate of $\\sup f/g$, generate samples from the beta distribution by rejection sampling. Store your samples. Print the number of samples you obtain."
   ]
  },
  {
   "cell_type": "code",
   "execution_count": null,
   "id": "9dada35e",
   "metadata": {},
   "outputs": [],
   "source": []
  },
  {
   "cell_type": "markdown",
   "id": "ad73a593",
   "metadata": {},
   "source": [
    "## 2.4\n",
    "Plot a density histogram of your samples overlaid with the beta and triangular PDFs. Use 100 bins."
   ]
  },
  {
   "cell_type": "code",
   "execution_count": null,
   "id": "163ec994",
   "metadata": {},
   "outputs": [],
   "source": []
  },
  {
   "cell_type": "markdown",
   "id": "ba687088",
   "metadata": {},
   "source": [
    "# Problem 3"
   ]
  },
  {
   "cell_type": "markdown",
   "id": "abd0a313",
   "metadata": {},
   "source": [
    "## 3.1\n",
    "The Epanechnikov kernel is defined by\n",
    "$$K(u) = \\frac{3}{4}\\left(1 - u^{2}\\right)\\qquad\\text{for }\\lvert u \\rvert \\leq 1$$\n",
    "Perform Epanechnikov kernel density estimation on 1,000 simulated samples from a [lognormal distribution](https://docs.scipy.org/doc/scipy/reference/generated/scipy.stats.lognorm.html) with s=1 and random state 636. Use a bandwidth of 2.0. Plot the density estimate over the support of the lognormal distribution. (You can use 2 times the maximum of your samples as an upper bound for the support.)"
   ]
  },
  {
   "cell_type": "code",
   "execution_count": null,
   "id": "1db4268b",
   "metadata": {},
   "outputs": [],
   "source": []
  },
  {
   "cell_type": "markdown",
   "id": "7b8d1e35",
   "metadata": {},
   "source": [
    "## 3.2\n",
    "Test whether the estimate integrates to unity over the support of the lognormal distribution."
   ]
  },
  {
   "cell_type": "code",
   "execution_count": null,
   "id": "09bd0888",
   "metadata": {},
   "outputs": [],
   "source": []
  },
  {
   "cell_type": "markdown",
   "id": "293ce053",
   "metadata": {},
   "source": [
    "## 3.3\n",
    "Explain the results of your integration."
   ]
  },
  {
   "cell_type": "markdown",
   "id": "86b7071e",
   "metadata": {},
   "source": [
    "### _Answer:_"
   ]
  },
  {
   "cell_type": "markdown",
   "id": "466f585d",
   "metadata": {},
   "source": [
    "# Problem 4"
   ]
  },
  {
   "cell_type": "markdown",
   "id": "430da839",
   "metadata": {},
   "source": [
    "## 4.1\n",
    "Below we load the [Boston house prices dataset](https://scikit-learn.org/stable/datasets/toy_dataset.html#boston-dataset). We also store the labels of the predictor variables for you.\n",
    "\n",
    "Our goal will be to predict house price (MEDV) by regression. Split the dataset into a training and test set using 1/3 as the test size and a random state of 553. Use the function [_train_test_split_](https://scikit-learn.org/stable/modules/generated/sklearn.model_selection.train_test_split.html) from _sklearn.model_selection_ for this purpose."
   ]
  },
  {
   "cell_type": "code",
   "execution_count": 1,
   "id": "a5ceade1",
   "metadata": {},
   "outputs": [],
   "source": [
    "# Loading data:\n",
    "\n",
    "# Import function for loading the 'boston' dataset.\n",
    "from sklearn.datasets import load_boston\n",
    "# Load a 'bunch' containing data and descriptions.\n",
    "boston_bunch = load_boston()\n",
    "# Extract and store predictor variables.\n",
    "X = boston_bunch.data\n",
    "# Extract and store the variable that is the target for prediction.\n",
    "y = boston_bunch.target\n",
    "# Extract and store labels of predictor variables.\n",
    "labels = boston_bunch.feature_names"
   ]
  },
  {
   "cell_type": "code",
   "execution_count": 2,
   "id": "3c6be9d9",
   "metadata": {},
   "outputs": [],
   "source": [
    "# Your code:\n"
   ]
  },
  {
   "cell_type": "markdown",
   "id": "1dabfc03",
   "metadata": {},
   "source": [
    "## 4.2\n",
    "Fit three different linear models on the training set by ordinary least squares (OLS): \n",
    "- A model using all predictor variables.\n",
    "- A model using only AGE, NOX, DIS, and RAD as predictor variables.\n",
    "- A model using all polynomial combinations of degree $\\leq 2$ of the original thirteen predictor variables."
   ]
  },
  {
   "cell_type": "code",
   "execution_count": null,
   "id": "b1cea95b",
   "metadata": {},
   "outputs": [],
   "source": []
  },
  {
   "cell_type": "markdown",
   "id": "a6870645",
   "metadata": {},
   "source": [
    "## 4.3\n",
    "For model assessment, print the following for each of the three models:\n",
    "- The $R^{2}$ of the predictions on the training set.\n",
    "- The $R^{2}$ of the predictions on the test set.\n",
    "- Predicted MEDV for the first five sample points in the test set.\n",
    "- True MEDV for the first five sample points in the test set."
   ]
  },
  {
   "cell_type": "code",
   "execution_count": null,
   "id": "fa2770b0",
   "metadata": {},
   "outputs": [],
   "source": []
  },
  {
   "cell_type": "markdown",
   "id": "b1616690",
   "metadata": {},
   "source": [
    "## 4.4\n",
    "Comment on your results in 4.3, which model do you think is the best? Explain you answer."
   ]
  },
  {
   "cell_type": "markdown",
   "id": "718c0a15",
   "metadata": {},
   "source": [
    "### _Answer:_"
   ]
  },
  {
   "cell_type": "markdown",
   "id": "bf8555dd",
   "metadata": {},
   "source": [
    "## 4.5\n",
    "Consider the linear regression model using all original features you built above. Holding all other variables equal, what effect does the model predict that an increase in 0.1 parts per 10 million nitric oxide concentration in a place will have on the median value of of owner-occupied homes in that place? Write code that will return and print the answer."
   ]
  },
  {
   "cell_type": "code",
   "execution_count": null,
   "id": "b5b653ca",
   "metadata": {},
   "outputs": [],
   "source": []
  }
 ],
 "metadata": {
  "kernelspec": {
   "display_name": "Python 3 (ipykernel)",
   "language": "python",
   "name": "python3"
  },
  "language_info": {
   "codemirror_mode": {
    "name": "ipython",
    "version": 3
   },
   "file_extension": ".py",
   "mimetype": "text/x-python",
   "name": "python",
   "nbconvert_exporter": "python",
   "pygments_lexer": "ipython3",
   "version": "3.7.11"
  },
  "varInspector": {
   "cols": {
    "lenName": 16,
    "lenType": 16,
    "lenVar": 40
   },
   "kernels_config": {
    "python": {
     "delete_cmd_postfix": "",
     "delete_cmd_prefix": "del ",
     "library": "var_list.py",
     "varRefreshCmd": "print(var_dic_list())"
    },
    "r": {
     "delete_cmd_postfix": ") ",
     "delete_cmd_prefix": "rm(",
     "library": "var_list.r",
     "varRefreshCmd": "cat(var_dic_list()) "
    }
   },
   "types_to_exclude": [
    "module",
    "function",
    "builtin_function_or_method",
    "instance",
    "_Feature"
   ],
   "window_display": false
  }
 },
 "nbformat": 4,
 "nbformat_minor": 5
}
