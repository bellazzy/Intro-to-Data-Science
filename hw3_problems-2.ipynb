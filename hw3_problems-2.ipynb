{
 "cells": [
  {
   "cell_type": "markdown",
   "id": "69b29ed5",
   "metadata": {},
   "source": [
    "# Homework 3 - Introduction to Data Science - Fall 2021"
   ]
  },
  {
   "cell_type": "markdown",
   "id": "3a4082aa",
   "metadata": {},
   "source": [
    "# Guidelines\n",
    "- If asked to fit a model to given data, do not preprocess the given data before fitting. \n",
    "- Use default values for any parameters not mentioned in a problem statement.\n",
    "- Comment where appropriate for clarity."
   ]
  },
  {
   "cell_type": "markdown",
   "id": "f355f89a",
   "metadata": {},
   "source": [
    "# Problem 1"
   ]
  },
  {
   "cell_type": "markdown",
   "id": "944ab4d2",
   "metadata": {},
   "source": [
    "We will apply decision trees to the `Titanic` dataset for prediction of passenger survival. The dataset contains the following variables:\n",
    "\n",
    "* `Pclass`: Ticket class where 1 = 1st, 2 = 2nd, 3 = 3rd\n",
    "* `Sex`: Female/male\n",
    "* `Embarked`: Port of Embarkation where C = Cherbourg, Q = Queenstown, S = Southampton\n",
    "* `SibSp`: Number of siblings\n",
    "* `Parch`: Number of parents\n",
    "* `Age`: Age in years\t\n",
    "* `Fare`: Passenger fare\t\n",
    "* `Survived`: 0 = No, 1 = Yes"
   ]
  },
  {
   "cell_type": "code",
   "execution_count": 1,
   "id": "382bf811",
   "metadata": {
    "scrolled": true
   },
   "outputs": [
    {
     "data": {
      "text/html": [
       "<div>\n",
       "<style scoped>\n",
       "    .dataframe tbody tr th:only-of-type {\n",
       "        vertical-align: middle;\n",
       "    }\n",
       "\n",
       "    .dataframe tbody tr th {\n",
       "        vertical-align: top;\n",
       "    }\n",
       "\n",
       "    .dataframe thead th {\n",
       "        text-align: right;\n",
       "    }\n",
       "</style>\n",
       "<table border=\"1\" class=\"dataframe\">\n",
       "  <thead>\n",
       "    <tr style=\"text-align: right;\">\n",
       "      <th></th>\n",
       "      <th>Pclass</th>\n",
       "      <th>Sex</th>\n",
       "      <th>Embarked</th>\n",
       "      <th>SibSp</th>\n",
       "      <th>Parch</th>\n",
       "      <th>Age</th>\n",
       "      <th>Fare</th>\n",
       "      <th>Survived</th>\n",
       "    </tr>\n",
       "  </thead>\n",
       "  <tbody>\n",
       "    <tr>\n",
       "      <th>0</th>\n",
       "      <td>3</td>\n",
       "      <td>1</td>\n",
       "      <td>1</td>\n",
       "      <td>1</td>\n",
       "      <td>0</td>\n",
       "      <td>22.0</td>\n",
       "      <td>7.2500</td>\n",
       "      <td>0</td>\n",
       "    </tr>\n",
       "    <tr>\n",
       "      <th>1</th>\n",
       "      <td>1</td>\n",
       "      <td>0</td>\n",
       "      <td>2</td>\n",
       "      <td>1</td>\n",
       "      <td>0</td>\n",
       "      <td>38.0</td>\n",
       "      <td>71.2833</td>\n",
       "      <td>1</td>\n",
       "    </tr>\n",
       "    <tr>\n",
       "      <th>2</th>\n",
       "      <td>3</td>\n",
       "      <td>0</td>\n",
       "      <td>1</td>\n",
       "      <td>0</td>\n",
       "      <td>0</td>\n",
       "      <td>26.0</td>\n",
       "      <td>7.9250</td>\n",
       "      <td>1</td>\n",
       "    </tr>\n",
       "    <tr>\n",
       "      <th>3</th>\n",
       "      <td>1</td>\n",
       "      <td>0</td>\n",
       "      <td>1</td>\n",
       "      <td>1</td>\n",
       "      <td>0</td>\n",
       "      <td>35.0</td>\n",
       "      <td>53.1000</td>\n",
       "      <td>1</td>\n",
       "    </tr>\n",
       "    <tr>\n",
       "      <th>4</th>\n",
       "      <td>3</td>\n",
       "      <td>1</td>\n",
       "      <td>1</td>\n",
       "      <td>0</td>\n",
       "      <td>0</td>\n",
       "      <td>35.0</td>\n",
       "      <td>8.0500</td>\n",
       "      <td>0</td>\n",
       "    </tr>\n",
       "    <tr>\n",
       "      <th>...</th>\n",
       "      <td>...</td>\n",
       "      <td>...</td>\n",
       "      <td>...</td>\n",
       "      <td>...</td>\n",
       "      <td>...</td>\n",
       "      <td>...</td>\n",
       "      <td>...</td>\n",
       "      <td>...</td>\n",
       "    </tr>\n",
       "    <tr>\n",
       "      <th>886</th>\n",
       "      <td>2</td>\n",
       "      <td>1</td>\n",
       "      <td>1</td>\n",
       "      <td>0</td>\n",
       "      <td>0</td>\n",
       "      <td>27.0</td>\n",
       "      <td>13.0000</td>\n",
       "      <td>0</td>\n",
       "    </tr>\n",
       "    <tr>\n",
       "      <th>887</th>\n",
       "      <td>1</td>\n",
       "      <td>0</td>\n",
       "      <td>1</td>\n",
       "      <td>0</td>\n",
       "      <td>0</td>\n",
       "      <td>19.0</td>\n",
       "      <td>30.0000</td>\n",
       "      <td>1</td>\n",
       "    </tr>\n",
       "    <tr>\n",
       "      <th>888</th>\n",
       "      <td>3</td>\n",
       "      <td>0</td>\n",
       "      <td>1</td>\n",
       "      <td>1</td>\n",
       "      <td>2</td>\n",
       "      <td>28.0</td>\n",
       "      <td>23.4500</td>\n",
       "      <td>0</td>\n",
       "    </tr>\n",
       "    <tr>\n",
       "      <th>889</th>\n",
       "      <td>1</td>\n",
       "      <td>1</td>\n",
       "      <td>2</td>\n",
       "      <td>0</td>\n",
       "      <td>0</td>\n",
       "      <td>26.0</td>\n",
       "      <td>30.0000</td>\n",
       "      <td>1</td>\n",
       "    </tr>\n",
       "    <tr>\n",
       "      <th>890</th>\n",
       "      <td>3</td>\n",
       "      <td>1</td>\n",
       "      <td>3</td>\n",
       "      <td>0</td>\n",
       "      <td>0</td>\n",
       "      <td>32.0</td>\n",
       "      <td>7.7500</td>\n",
       "      <td>0</td>\n",
       "    </tr>\n",
       "  </tbody>\n",
       "</table>\n",
       "<p>891 rows × 8 columns</p>\n",
       "</div>"
      ],
      "text/plain": [
       "     Pclass  Sex  Embarked  SibSp  Parch   Age     Fare  Survived\n",
       "0         3    1         1      1      0  22.0   7.2500         0\n",
       "1         1    0         2      1      0  38.0  71.2833         1\n",
       "2         3    0         1      0      0  26.0   7.9250         1\n",
       "3         1    0         1      1      0  35.0  53.1000         1\n",
       "4         3    1         1      0      0  35.0   8.0500         0\n",
       "..      ...  ...       ...    ...    ...   ...      ...       ...\n",
       "886       2    1         1      0      0  27.0  13.0000         0\n",
       "887       1    0         1      0      0  19.0  30.0000         1\n",
       "888       3    0         1      1      2  28.0  23.4500         0\n",
       "889       1    1         2      0      0  26.0  30.0000         1\n",
       "890       3    1         3      0      0  32.0   7.7500         0\n",
       "\n",
       "[891 rows x 8 columns]"
      ]
     },
     "execution_count": 1,
     "metadata": {},
     "output_type": "execute_result"
    }
   ],
   "source": [
    "import pandas as pd\n",
    "\n",
    "titanic = pd.read_csv(\"titanic.csv\")\n",
    "\n",
    "# Select subset of columns.\n",
    "columns = ['Pclass', 'Sex','Embarked','SibSp', 'Parch','Age','Fare','Survived']\n",
    "titanic = titanic[columns]\n",
    "\n",
    "# Fill NA values.\n",
    "titanic['Embarked'].fillna(\"S\", inplace=True)\n",
    "med_age = int(titanic['Age'].median())\n",
    "titanic['Age'].fillna(med_age, inplace=True)\n",
    "\n",
    "# Encode classes as integers.\n",
    "titanic['Sex'] = titanic['Sex'].map( {'female': 0, 'male': 1} ).astype(int)\n",
    "titanic['Embarked'] = titanic['Embarked'].map( {'S': 1, 'C': 2, 'Q': 3} ).astype(int)\n",
    "\n",
    "# Print.\n",
    "titanic"
   ]
  },
  {
   "cell_type": "code",
   "execution_count": 2,
   "id": "6008d0dd",
   "metadata": {},
   "outputs": [],
   "source": [
    "from sklearn.model_selection import train_test_split\n",
    "\n",
    "# Test/train split.\n",
    "X_titan = titanic.drop('Survived', axis = 1)\n",
    "y_titan = titanic[['Survived']]\n",
    "X_titan_train, X_titan_test, y_titan_train, y_titan_test = train_test_split(X_titan, y_titan, test_size=1/3, random_state=42)"
   ]
  },
  {
   "cell_type": "markdown",
   "id": "42574fff",
   "metadata": {},
   "source": [
    "## 1.1\n",
    "For `max_depth` ranging from 1 to 50, fit decision tree classifiers using `random_state=42` and store the training and test accuracies in the given variables."
   ]
  },
  {
   "cell_type": "code",
   "execution_count": 94,
   "id": "78c6857a",
   "metadata": {},
   "outputs": [
    {
     "name": "stdout",
     "output_type": "stream",
     "text": [
      "Best prediction accuracy:  0.8215488215488216\n",
      "Depth:  3\n"
     ]
    },
    {
     "data": {
      "image/png": "[encoded data removed]",
      "text/plain": [
       "<Figure size 432x288 with 1 Axes>"
      ]
     },
     "metadata": {
      "needs_background": "light"
     },
     "output_type": "display_data"
    }
   ],
   "source": [
    "import numpy as np\n",
    "from sklearn import tree\n",
    "from sklearn.metrics import accuracy_score\n",
    "import matplotlib.pyplot as plt\n",
    "\n",
    "depth = np.arange(1,51,1)\n",
    "dtaccuracy_train = [] # List for storing training accuracies.\n",
    "dtaccuracy_test = [] # List for storing test accuracies.\n",
    "\n",
    "### YOUR CODE HERE:\n",
    "for dep in depth:\n",
    "    clf = tree.DecisionTreeClassifier(random_state=42, max_depth=dep)\n",
    "    clf.fit(X_titan_train, y_titan_train)\n",
    "    score_train = clf.score(X_titan_train, y_titan_train)\n",
    "    score_test = clf.score(X_titan_test, y_titan_test)\n",
    "    dtaccuracy_train.append(score_train)\n",
    "    dtaccuracy_test.append(score_test)\n",
    "\n",
    "\n",
    "print(\"Best prediction accuracy: \", max(dtaccuracy_test))\n",
    "print(\"Depth: \", depth[dtaccuracy_test.index(max(dtaccuracy_test))])\n",
    "\n",
    "plt.plot(depth, dtaccuracy_train, label = \"Training\")\n",
    "plt.plot(depth, dtaccuracy_test, label = \"Test\")\n",
    "plt.xlabel(\"Depth\")\n",
    "plt.ylabel(\"Accuracy\")\n",
    "plt.title(\"Accuracy vs. Depth\")\n",
    "plt.legend()\n",
    "plt.show()"
   ]
  },
  {
   "cell_type": "markdown",
   "id": "46192243",
   "metadata": {},
   "source": [
    "## 1.2\n",
    "What trends do you observe in the training and test accuracies as depth increases? Explain these trends."
   ]
  },
  {
   "cell_type": "markdown",
   "id": "86e70b79",
   "metadata": {},
   "source": [
    "### Answer:\n",
    "As the depth of the decision tree increases, the model fits the training data better and better which performs as the training accuracy is getting higher and higher, but the test results of the test data first become better and then become worse, indicating that a certain degree of depth can have better generalization performance while too large depth of the value will lead to the occurrence of model overfitting.\n"
   ]
  },
  {
   "cell_type": "markdown",
   "id": "7ade8065",
   "metadata": {},
   "source": [
    "## 1.3\n",
    "For the decision tree with the best test accuracy, print the three most important features."
   ]
  },
  {
   "cell_type": "code",
   "execution_count": 95,
   "id": "b059912a",
   "metadata": {},
   "outputs": [
    {
     "name": "stdout",
     "output_type": "stream",
     "text": [
      "The three most important features are Sex, Pclass and Fare\n"
     ]
    }
   ],
   "source": [
    "# YOUR CODE HERE:\n",
    "import heapq\n",
    "clf = tree.DecisionTreeClassifier(random_state=42, max_depth=3)\n",
    "clf.fit(X_titan_train, y_titan_train)\n",
    "top_3 = clf.feature_importances_.argsort()[-3:][::-1]\n",
    "print(f'The three most important features are {columns[top_3[0]]}, {columns[top_3[1]]} and {columns[top_3[2]]}')"
   ]
  },
  {
   "cell_type": "markdown",
   "id": "c4769c93",
   "metadata": {},
   "source": [
    "# Problem 2\n",
    "We continue to explore prediction on the `Titanic` dataset with random forests."
   ]
  },
  {
   "cell_type": "markdown",
   "id": "3befd3b4",
   "metadata": {},
   "source": [
    "## 2.1\n",
    "For `n_estimators` ranging from 1 to 201 with step size 10, fit random forest classifiers using `random_state=42` and `max_depth=3`. Store the training and test accuracies in the given variables."
   ]
  },
  {
   "cell_type": "code",
   "execution_count": 99,
   "id": "c3045ede",
   "metadata": {},
   "outputs": [
    {
     "name": "stdout",
     "output_type": "stream",
     "text": [
      "Best prediction accuracy:  0.8282828282828283\n",
      "n_estimators:  [101 131 151 161 171]\n"
     ]
    },
    {
     "data": {
      "image/png": "[encoded data removed]",
      "text/plain": [
       "<Figure size 432x288 with 1 Axes>"
      ]
     },
     "metadata": {
      "needs_background": "light"
     },
     "output_type": "display_data"
    }
   ],
   "source": [
    "import numpy as np\n",
    "import matplotlib.pyplot as plt\n",
    "from sklearn.ensemble import RandomForestClassifier\n",
    "\n",
    "rf_arru_lst_test = [] # List for storing training accuracies.\n",
    "rf_arru_lst_train = [] # List for storing test accuracies.\n",
    "n_estimators_lst = np.arange(1,202,10)\n",
    "\n",
    "\n",
    "# YOUR CODE HERE:\n",
    "\n",
    "for n_est in n_estimators_lst:\n",
    "    clf = RandomForestClassifier(n_estimators=n_est, random_state=42, max_depth=3)\n",
    "    clf.fit(X_titan_train, y_titan_train.values.ravel())\n",
    "    score_train = clf.score(X_titan_train, y_titan_train)\n",
    "    score_test = clf.score(X_titan_test, y_titan_test)\n",
    "    rf_arru_lst_train.append(score_train)\n",
    "    rf_arru_lst_test.append(score_test)\n",
    "\n",
    "\n",
    "# print \"Best prediction accuracy\" and corresponding \"n_estimators\"\n",
    "# YOUR CODE HERE:\n",
    "print(\"Best prediction accuracy: \", max(rf_arru_lst_test))\n",
    "print(\"n_estimators: \", n_estimators_lst[np.where(rf_arru_lst_test==max(rf_arru_lst_test))])\n",
    "\n",
    "\n",
    "# plot the accuracies\n",
    "plt.plot(n_estimators_lst, rf_arru_lst_test, label = \"Test\")\n",
    "plt.plot(n_estimators_lst, rf_arru_lst_train, label = \"Train\")\n",
    "plt.xlabel('n_estimators')\n",
    "plt.ylabel('Accuracy')\n",
    "plt.title('n_estimators vs. Accuracy')\n",
    "plt.legend()\n",
    "plt.show()"
   ]
  },
  {
   "cell_type": "markdown",
   "id": "9fa17a62",
   "metadata": {},
   "source": [
    "## 2.2\n",
    "What trends do you observe in the training and test accuracies as `n_estimators` increases? Explain these trends."
   ]
  },
  {
   "cell_type": "markdown",
   "id": "465c3570",
   "metadata": {},
   "source": [
    "### Answer:\n",
    "A random forest with multiple decision trees has better predictive ability than a single decision tree. With the increasing of n_estimators, the train accuracy achieves the best prediction results soon and then slightly down and the test accuracy first rise, then fall, then rise, having the same tendency with the former. We can see that those two accuracy is getting closer as n_estimators getting larger which indicating that the model the model has a better ability to prevent overfitting."
   ]
  },
  {
   "cell_type": "markdown",
   "id": "9c404fac",
   "metadata": {},
   "source": [
    "## 2.3\n",
    "`GridSearchCV` is a class to assist in finding the best parameters for a model. Read about `GridSearchCV` here:\n",
    "\n",
    "https://scikit-learn.org/stable/modules/generated/sklearn.model_selection.GridSearchCV.html\n",
    "\n",
    "To use `GridSearchCV`, follow these steps:\n",
    "* Create your model object.\n",
    "* Create a dictionary with the model parameters and ranges over which you want to optimize.\n",
    "* Create a `GridSearchCV` object and fit it on your training data.\n",
    "* Access the attributes of the `GridSearchCV` object to find the optimal parameters and scores.\n",
    "\n",
    "For a Random Forest model with `random_state=42`, use `GridSearchCV` with 10-fold CV to determine the best combination of the following parameters:\n",
    "* `max_depth` ranging from 1 to 10\n",
    "* `n_estimators` ranging from 1 to 10\n",
    "\n",
    "Print the best parameters and corresponding score."
   ]
  },
  {
   "cell_type": "code",
   "execution_count": 100,
   "id": "83a7767a",
   "metadata": {},
   "outputs": [
    {
     "name": "stdout",
     "output_type": "stream",
     "text": [
      "Best: 0.831638 using {'max_depth': 9, 'n_estimators': 10}\n"
     ]
    }
   ],
   "source": [
    "from sklearn.model_selection import GridSearchCV\n",
    "\n",
    "# create the default model\n",
    "# YOUR CODE HERE:\n",
    "model = RandomForestClassifier(random_state=42)\n",
    "\n",
    "# Grid of parameters over which to optimize.\n",
    "# YOUR CODE HERE:\n",
    "max_depth_ls = [i for i in range(1, 11, 1)]\n",
    "n_estimators_ls = [i for i in range(1, 11, 1)]\n",
    "param_grid = dict(max_depth=max_depth_ls, n_estimators=n_estimators_ls)\n",
    "\n",
    "# search the grid\n",
    "# YOUR CODE HERE:\n",
    "grid_search = GridSearchCV(model, param_grid, cv=10)\n",
    "\n",
    "# Print the \"Best parameters\" and its \"Score\"\n",
    "# YOUR CODE HERE:\n",
    "grid_result = grid_search.fit(X_titan_train, y_titan_train.values.ravel()) \n",
    "print(\"Best: %f using %s\" % (grid_result.best_score_,grid_search.best_params_))"
   ]
  },
  {
   "cell_type": "markdown",
   "id": "1a8bec9f",
   "metadata": {},
   "source": [
    "# Problem 3"
   ]
  },
  {
   "cell_type": "markdown",
   "id": "f76be33d",
   "metadata": {},
   "source": [
    "We will apply logistic regression to the problem of classifying images of fashion articles in the [Fashion-MNIST dataset](https://github.com/zalandoresearch/fashion-mnist)."
   ]
  },
  {
   "cell_type": "code",
   "execution_count": 90,
   "id": "60e55b42",
   "metadata": {},
   "outputs": [
    {
     "data": {
      "text/html": [
       "<div>\n",
       "<style scoped>\n",
       "    .dataframe tbody tr th:only-of-type {\n",
       "        vertical-align: middle;\n",
       "    }\n",
       "\n",
       "    .dataframe tbody tr th {\n",
       "        vertical-align: top;\n",
       "    }\n",
       "\n",
       "    .dataframe thead th {\n",
       "        text-align: right;\n",
       "    }\n",
       "</style>\n",
       "<table border=\"1\" class=\"dataframe\">\n",
       "  <thead>\n",
       "    <tr style=\"text-align: right;\">\n",
       "      <th></th>\n",
       "      <th>label</th>\n",
       "      <th>pixel1</th>\n",
       "      <th>pixel2</th>\n",
       "      <th>pixel3</th>\n",
       "      <th>pixel4</th>\n",
       "      <th>pixel5</th>\n",
       "      <th>pixel6</th>\n",
       "      <th>pixel7</th>\n",
       "      <th>pixel8</th>\n",
       "      <th>pixel9</th>\n",
       "      <th>...</th>\n",
       "      <th>pixel775</th>\n",
       "      <th>pixel776</th>\n",
       "      <th>pixel777</th>\n",
       "      <th>pixel778</th>\n",
       "      <th>pixel779</th>\n",
       "      <th>pixel780</th>\n",
       "      <th>pixel781</th>\n",
       "      <th>pixel782</th>\n",
       "      <th>pixel783</th>\n",
       "      <th>pixel784</th>\n",
       "    </tr>\n",
       "  </thead>\n",
       "  <tbody>\n",
       "    <tr>\n",
       "      <th>0</th>\n",
       "      <td>Pullover</td>\n",
       "      <td>0</td>\n",
       "      <td>0</td>\n",
       "      <td>0</td>\n",
       "      <td>0</td>\n",
       "      <td>0</td>\n",
       "      <td>0</td>\n",
       "      <td>0</td>\n",
       "      <td>0</td>\n",
       "      <td>0</td>\n",
       "      <td>...</td>\n",
       "      <td>0</td>\n",
       "      <td>0</td>\n",
       "      <td>0</td>\n",
       "      <td>0</td>\n",
       "      <td>0</td>\n",
       "      <td>0</td>\n",
       "      <td>0</td>\n",
       "      <td>0</td>\n",
       "      <td>0</td>\n",
       "      <td>0</td>\n",
       "    </tr>\n",
       "    <tr>\n",
       "      <th>1</th>\n",
       "      <td>Ankle boot</td>\n",
       "      <td>0</td>\n",
       "      <td>0</td>\n",
       "      <td>0</td>\n",
       "      <td>0</td>\n",
       "      <td>0</td>\n",
       "      <td>0</td>\n",
       "      <td>0</td>\n",
       "      <td>0</td>\n",
       "      <td>0</td>\n",
       "      <td>...</td>\n",
       "      <td>0</td>\n",
       "      <td>0</td>\n",
       "      <td>0</td>\n",
       "      <td>0</td>\n",
       "      <td>0</td>\n",
       "      <td>0</td>\n",
       "      <td>0</td>\n",
       "      <td>0</td>\n",
       "      <td>0</td>\n",
       "      <td>0</td>\n",
       "    </tr>\n",
       "    <tr>\n",
       "      <th>2</th>\n",
       "      <td>Shirt</td>\n",
       "      <td>0</td>\n",
       "      <td>0</td>\n",
       "      <td>0</td>\n",
       "      <td>0</td>\n",
       "      <td>0</td>\n",
       "      <td>0</td>\n",
       "      <td>0</td>\n",
       "      <td>5</td>\n",
       "      <td>0</td>\n",
       "      <td>...</td>\n",
       "      <td>0</td>\n",
       "      <td>0</td>\n",
       "      <td>0</td>\n",
       "      <td>30</td>\n",
       "      <td>43</td>\n",
       "      <td>0</td>\n",
       "      <td>0</td>\n",
       "      <td>0</td>\n",
       "      <td>0</td>\n",
       "      <td>0</td>\n",
       "    </tr>\n",
       "    <tr>\n",
       "      <th>3</th>\n",
       "      <td>T-shirt/top</td>\n",
       "      <td>0</td>\n",
       "      <td>0</td>\n",
       "      <td>0</td>\n",
       "      <td>1</td>\n",
       "      <td>2</td>\n",
       "      <td>0</td>\n",
       "      <td>0</td>\n",
       "      <td>0</td>\n",
       "      <td>0</td>\n",
       "      <td>...</td>\n",
       "      <td>3</td>\n",
       "      <td>0</td>\n",
       "      <td>0</td>\n",
       "      <td>0</td>\n",
       "      <td>0</td>\n",
       "      <td>1</td>\n",
       "      <td>0</td>\n",
       "      <td>0</td>\n",
       "      <td>0</td>\n",
       "      <td>0</td>\n",
       "    </tr>\n",
       "    <tr>\n",
       "      <th>4</th>\n",
       "      <td>Dress</td>\n",
       "      <td>0</td>\n",
       "      <td>0</td>\n",
       "      <td>0</td>\n",
       "      <td>0</td>\n",
       "      <td>0</td>\n",
       "      <td>0</td>\n",
       "      <td>0</td>\n",
       "      <td>0</td>\n",
       "      <td>0</td>\n",
       "      <td>...</td>\n",
       "      <td>0</td>\n",
       "      <td>0</td>\n",
       "      <td>0</td>\n",
       "      <td>0</td>\n",
       "      <td>0</td>\n",
       "      <td>0</td>\n",
       "      <td>0</td>\n",
       "      <td>0</td>\n",
       "      <td>0</td>\n",
       "      <td>0</td>\n",
       "    </tr>\n",
       "    <tr>\n",
       "      <th>...</th>\n",
       "      <td>...</td>\n",
       "      <td>...</td>\n",
       "      <td>...</td>\n",
       "      <td>...</td>\n",
       "      <td>...</td>\n",
       "      <td>...</td>\n",
       "      <td>...</td>\n",
       "      <td>...</td>\n",
       "      <td>...</td>\n",
       "      <td>...</td>\n",
       "      <td>...</td>\n",
       "      <td>...</td>\n",
       "      <td>...</td>\n",
       "      <td>...</td>\n",
       "      <td>...</td>\n",
       "      <td>...</td>\n",
       "      <td>...</td>\n",
       "      <td>...</td>\n",
       "      <td>...</td>\n",
       "      <td>...</td>\n",
       "      <td>...</td>\n",
       "    </tr>\n",
       "    <tr>\n",
       "      <th>995</th>\n",
       "      <td>Bag</td>\n",
       "      <td>0</td>\n",
       "      <td>0</td>\n",
       "      <td>0</td>\n",
       "      <td>0</td>\n",
       "      <td>0</td>\n",
       "      <td>0</td>\n",
       "      <td>0</td>\n",
       "      <td>0</td>\n",
       "      <td>0</td>\n",
       "      <td>...</td>\n",
       "      <td>0</td>\n",
       "      <td>0</td>\n",
       "      <td>0</td>\n",
       "      <td>0</td>\n",
       "      <td>0</td>\n",
       "      <td>0</td>\n",
       "      <td>0</td>\n",
       "      <td>0</td>\n",
       "      <td>0</td>\n",
       "      <td>0</td>\n",
       "    </tr>\n",
       "    <tr>\n",
       "      <th>996</th>\n",
       "      <td>Trouser</td>\n",
       "      <td>0</td>\n",
       "      <td>0</td>\n",
       "      <td>0</td>\n",
       "      <td>0</td>\n",
       "      <td>0</td>\n",
       "      <td>0</td>\n",
       "      <td>0</td>\n",
       "      <td>0</td>\n",
       "      <td>0</td>\n",
       "      <td>...</td>\n",
       "      <td>164</td>\n",
       "      <td>0</td>\n",
       "      <td>0</td>\n",
       "      <td>0</td>\n",
       "      <td>0</td>\n",
       "      <td>0</td>\n",
       "      <td>0</td>\n",
       "      <td>0</td>\n",
       "      <td>0</td>\n",
       "      <td>0</td>\n",
       "    </tr>\n",
       "    <tr>\n",
       "      <th>997</th>\n",
       "      <td>Coat</td>\n",
       "      <td>0</td>\n",
       "      <td>0</td>\n",
       "      <td>0</td>\n",
       "      <td>0</td>\n",
       "      <td>0</td>\n",
       "      <td>0</td>\n",
       "      <td>0</td>\n",
       "      <td>0</td>\n",
       "      <td>1</td>\n",
       "      <td>...</td>\n",
       "      <td>0</td>\n",
       "      <td>0</td>\n",
       "      <td>0</td>\n",
       "      <td>0</td>\n",
       "      <td>170</td>\n",
       "      <td>193</td>\n",
       "      <td>11</td>\n",
       "      <td>0</td>\n",
       "      <td>0</td>\n",
       "      <td>0</td>\n",
       "    </tr>\n",
       "    <tr>\n",
       "      <th>998</th>\n",
       "      <td>Sneaker</td>\n",
       "      <td>0</td>\n",
       "      <td>0</td>\n",
       "      <td>0</td>\n",
       "      <td>0</td>\n",
       "      <td>0</td>\n",
       "      <td>0</td>\n",
       "      <td>0</td>\n",
       "      <td>0</td>\n",
       "      <td>0</td>\n",
       "      <td>...</td>\n",
       "      <td>0</td>\n",
       "      <td>0</td>\n",
       "      <td>0</td>\n",
       "      <td>0</td>\n",
       "      <td>0</td>\n",
       "      <td>0</td>\n",
       "      <td>0</td>\n",
       "      <td>0</td>\n",
       "      <td>0</td>\n",
       "      <td>0</td>\n",
       "    </tr>\n",
       "    <tr>\n",
       "      <th>999</th>\n",
       "      <td>Trouser</td>\n",
       "      <td>0</td>\n",
       "      <td>0</td>\n",
       "      <td>0</td>\n",
       "      <td>0</td>\n",
       "      <td>0</td>\n",
       "      <td>0</td>\n",
       "      <td>0</td>\n",
       "      <td>0</td>\n",
       "      <td>0</td>\n",
       "      <td>...</td>\n",
       "      <td>138</td>\n",
       "      <td>0</td>\n",
       "      <td>0</td>\n",
       "      <td>0</td>\n",
       "      <td>0</td>\n",
       "      <td>0</td>\n",
       "      <td>0</td>\n",
       "      <td>0</td>\n",
       "      <td>0</td>\n",
       "      <td>0</td>\n",
       "    </tr>\n",
       "  </tbody>\n",
       "</table>\n",
       "<p>1000 rows × 785 columns</p>\n",
       "</div>"
      ],
      "text/plain": [
       "           label  pixel1  pixel2  pixel3  pixel4  pixel5  pixel6  pixel7  \\\n",
       "0       Pullover       0       0       0       0       0       0       0   \n",
       "1     Ankle boot       0       0       0       0       0       0       0   \n",
       "2          Shirt       0       0       0       0       0       0       0   \n",
       "3    T-shirt/top       0       0       0       1       2       0       0   \n",
       "4          Dress       0       0       0       0       0       0       0   \n",
       "..           ...     ...     ...     ...     ...     ...     ...     ...   \n",
       "995          Bag       0       0       0       0       0       0       0   \n",
       "996      Trouser       0       0       0       0       0       0       0   \n",
       "997         Coat       0       0       0       0       0       0       0   \n",
       "998      Sneaker       0       0       0       0       0       0       0   \n",
       "999      Trouser       0       0       0       0       0       0       0   \n",
       "\n",
       "     pixel8  pixel9  ...  pixel775  pixel776  pixel777  pixel778  pixel779  \\\n",
       "0         0       0  ...         0         0         0         0         0   \n",
       "1         0       0  ...         0         0         0         0         0   \n",
       "2         5       0  ...         0         0         0        30        43   \n",
       "3         0       0  ...         3         0         0         0         0   \n",
       "4         0       0  ...         0         0         0         0         0   \n",
       "..      ...     ...  ...       ...       ...       ...       ...       ...   \n",
       "995       0       0  ...         0         0         0         0         0   \n",
       "996       0       0  ...       164         0         0         0         0   \n",
       "997       0       1  ...         0         0         0         0       170   \n",
       "998       0       0  ...         0         0         0         0         0   \n",
       "999       0       0  ...       138         0         0         0         0   \n",
       "\n",
       "     pixel780  pixel781  pixel782  pixel783  pixel784  \n",
       "0           0         0         0         0         0  \n",
       "1           0         0         0         0         0  \n",
       "2           0         0         0         0         0  \n",
       "3           1         0         0         0         0  \n",
       "4           0         0         0         0         0  \n",
       "..        ...       ...       ...       ...       ...  \n",
       "995         0         0         0         0         0  \n",
       "996         0         0         0         0         0  \n",
       "997       193        11         0         0         0  \n",
       "998         0         0         0         0         0  \n",
       "999         0         0         0         0         0  \n",
       "\n",
       "[1000 rows x 785 columns]"
      ]
     },
     "metadata": {},
     "output_type": "display_data"
    }
   ],
   "source": [
    "import numpy as np\n",
    "import pandas as pd\n",
    "\n",
    "fash = pd.read_csv(\"fash.csv\")\n",
    "labels = [\n",
    "    \"T-shirt/top\",\n",
    "    \"Trouser\",\n",
    "    \"Pullover\",\n",
    "    \"Dress\",\n",
    "    \"Coat\",\n",
    "    \"Sandal\",\n",
    "    \"Shirt\",\n",
    "    \"Sneaker\",\n",
    "    \"Bag\",\n",
    "    \"Ankle boot\"]\n",
    "fash['label'].replace(to_replace=np.arange(0,10), value=labels, inplace=True)\n",
    "\n",
    "X_fash = fash.iloc[:, 1:]\n",
    "y_fash = fash.iloc[:, 0]\n",
    "\n",
    "display(fash)"
   ]
  },
  {
   "cell_type": "markdown",
   "id": "5b1c5418",
   "metadata": {},
   "source": [
    "## 3.1\n",
    "Fit a logistic regression model for image classification to the data with `penalty=\"none\"`. Print the first three images using [`matplotlib.pyplot.imshow`](https://matplotlib.org/stable/api/_as_gen/matplotlib.pyplot.imshow.html) along with your model classifications and the predicted probabilities of each class."
   ]
  },
  {
   "cell_type": "code",
   "execution_count": 91,
   "id": "1b32748c",
   "metadata": {},
   "outputs": [
    {
     "name": "stdout",
     "output_type": "stream",
     "text": [
      "Pullover\n",
      "[0.00000000e+000 3.95834831e-142 3.68502660e-077 0.00000000e+000\n",
      " 1.00000000e+000 0.00000000e+000 8.69498365e-167 0.00000000e+000\n",
      " 1.10432384e-246 2.57892975e-220]\n"
     ]
    },
    {
     "data": {
      "image/png": "[encoded data removed]",
      "text/plain": [
       "<Figure size 432x288 with 1 Axes>"
      ]
     },
     "metadata": {
      "needs_background": "light"
     },
     "output_type": "display_data"
    },
    {
     "name": "stdout",
     "output_type": "stream",
     "text": [
      "Ankle boot\n",
      "[1.00000000e+000 8.38096793e-227 0.00000000e+000 0.00000000e+000\n",
      " 1.59008064e-278 1.33344182e-100 2.96439388e-323 1.02328358e-040\n",
      " 0.00000000e+000 1.48970631e-308]\n"
     ]
    },
    {
     "data": {
      "image/png": "[encoded data removed]",
      "text/plain": [
       "<Figure size 432x288 with 1 Axes>"
      ]
     },
     "metadata": {
      "needs_background": "light"
     },
     "output_type": "display_data"
    },
    {
     "name": "stdout",
     "output_type": "stream",
     "text": [
      "Shirt\n",
      "[0.00000000e+000 1.71263508e-222 8.98438277e-093 1.19595039e-121\n",
      " 6.88858677e-119 0.00000000e+000 1.00000000e+000 0.00000000e+000\n",
      " 1.73728650e-172 1.63645406e-311]\n"
     ]
    },
    {
     "data": {
      "image/png": "[encoded data removed]",
      "text/plain": [
       "<Figure size 432x288 with 1 Axes>"
      ]
     },
     "metadata": {
      "needs_background": "light"
     },
     "output_type": "display_data"
    }
   ],
   "source": [
    "from sklearn.linear_model import LogisticRegression\n",
    "import matplotlib.pyplot as plt\n",
    "\n",
    "# YOUR CODE HERE:\n",
    "clf = LogisticRegression(penalty=\"none\") \n",
    "clf.fit(X_fash, y_fash)\n",
    "\n",
    "for k in range(3):\n",
    "    print(clf.predict(X_fash.iloc[k].values.reshape(1,-1))[0])\n",
    "    print(clf.predict_proba(X_fash.iloc[k].values.reshape(1,-1))[0])\n",
    "    plt.imshow(X_fash.iloc[k].values.reshape(28,28))\n",
    "    plt.show()\n"
   ]
  },
  {
   "cell_type": "markdown",
   "id": "dcd7f96a",
   "metadata": {},
   "source": [
    "## 3.2\n",
    "In the previous part we used no penalty term. Now we will explore L2 penalization. Answer the following questions in the context of logistic regression:\n",
    "1. What is L2 penalization?\n",
    "2. What main benefit does it have and how does it achieve that?"
   ]
  },
  {
   "cell_type": "markdown",
   "id": "e40cdc4c",
   "metadata": {},
   "source": [
    "### Answer:\n",
    "1. Perform quadratic constraints on the parameters of the function\n",
    "2. Prevent the model from over-fitting and solve the problem of distortion of the classification boundary. It is achieved by adding $\\lambda\\sum\\theta^2$ in the cost function"
   ]
  },
  {
   "cell_type": "markdown",
   "id": "eff5a563",
   "metadata": {},
   "source": [
    "## 3.3\n",
    "Fit logistic regression models to the data using L2 regularization and the given values of `C`. Determine the optimal value of the inverse regularization strength parameter $C$ by performing 5-fold cross-validation. Plot the averaged `accuracy_score` associated with the each model against $\\log(C)$."
   ]
  },
  {
   "cell_type": "code",
   "execution_count": 92,
   "id": "4e1d2c64",
   "metadata": {
    "scrolled": true
   },
   "outputs": [
    {
     "name": "stdout",
     "output_type": "stream",
     "text": [
      "Optimal C: 0.1\n"
     ]
    },
    {
     "data": {
      "image/png": "[encoded data removed]",
      "text/plain": [
       "<Figure size 432x288 with 1 Axes>"
      ]
     },
     "metadata": {
      "needs_background": "light"
     },
     "output_type": "display_data"
    }
   ],
   "source": [
    "from numpy.linalg import norm\n",
    "from sklearn.model_selection import cross_val_score\n",
    "import warnings\n",
    "warnings.filterwarnings(\"ignore\")\n",
    "\n",
    "C = [1e-3, 1e-2, 1e-1, 1e0, 1e1, 1e2, 1e3]\n",
    "cv_scores = [0]*7 # List for storing the averaged accuracies.\n",
    "\n",
    "# YOUR CODE HERE:\n",
    "\n",
    "for i, _ in enumerate(C):\n",
    "    model = LogisticRegression(penalty='l2', C=_)\n",
    "    scores = cross_val_score(model, X_fash, y_fash, cv=5, scoring='accuracy')\n",
    "    cv_scores[i] = scores.mean()\n",
    "\n",
    "\n",
    "# Print the \"Optimal C\"\n",
    "# YOUR CODE HERE:\n",
    "\n",
    "print('Optimal C:', C[cv_scores.index(max(cv_scores))])\n",
    "\n",
    "\n",
    "plt.plot(np.log(C), cv_scores)\n",
    "plt.xlabel(\"log(C)\")\n",
    "plt.ylabel(\"Averaged Accuracy\")\n",
    "plt.title(\"L2 Regularization\")\n",
    "plt.show()\n",
    "\n",
    "# The version may lead to different optimal C."
   ]
  },
  {
   "cell_type": "markdown",
   "id": "f986ff97",
   "metadata": {},
   "source": [
    "## 3.4\n",
    "Perform a random 80/20 split into training and test data set and use the optimal `C` of Problem 3.3 to train a logistic regression model. Plot the confusion matrix of the test set."
   ]
  },
  {
   "cell_type": "code",
   "execution_count": 93,
   "id": "f2e169fc",
   "metadata": {},
   "outputs": [
    {
     "data": {
      "image/png": "[encoded data removed]",
      "text/plain": [
       "<Figure size 432x288 with 2 Axes>"
      ]
     },
     "metadata": {
      "needs_background": "light"
     },
     "output_type": "display_data"
    }
   ],
   "source": [
    "from sklearn.model_selection import train_test_split\n",
    "from sklearn.metrics import plot_confusion_matrix\n",
    "\n",
    "# YOUR CODE HERE:\n",
    "X_train, X_test, y_train, y_test = train_test_split(X_fash, y_fash, test_size=0.2, random_state=100)\n",
    "model = LogisticRegression(penalty='l2', C=10.)\n",
    "model.fit(X_train, y_train)\n",
    "plot_confusion_matrix(model, X_test, y_test);"
   ]
  },
  {
   "cell_type": "markdown",
   "id": "d7f88a31",
   "metadata": {},
   "source": [
    "## 3.5\n",
    "For this model, which is the class label with the lowest classification accuracy in the test set?"
   ]
  },
  {
   "cell_type": "markdown",
   "id": "eed6983d",
   "metadata": {},
   "source": [
    "### Answer: \n",
    "Shirt has the lowest classification accuarcy in the test set.\n"
   ]
  },
  {
   "cell_type": "markdown",
   "id": "c43eeb12",
   "metadata": {},
   "source": [
    "# Problem 4"
   ]
  },
  {
   "cell_type": "markdown",
   "id": "593e64af",
   "metadata": {},
   "source": [
    "We explore classification using support vector machines (SVM) on the [`wine`](https://scikit-learn.org/stable/datasets/toy_dataset.html#wine-dataset) dataset. Wines are divided into class 0 and class 1."
   ]
  },
  {
   "cell_type": "code",
   "execution_count": 66,
   "id": "ed964020",
   "metadata": {},
   "outputs": [
    {
     "name": "stdout",
     "output_type": "stream",
     "text": [
      "     color_intensity   hue\n",
      "0               5.64  1.04\n",
      "1               4.38  1.05\n",
      "2               5.68  1.03\n",
      "3               7.80  0.86\n",
      "4               4.32  1.04\n",
      "..               ...   ...\n",
      "173             7.70  0.64\n",
      "174             7.30  0.70\n",
      "175            10.20  0.59\n",
      "176             9.30  0.60\n",
      "177             9.20  0.61\n",
      "\n",
      "[178 rows x 2 columns]\n",
      "0      1\n",
      "1      1\n",
      "2      1\n",
      "3      1\n",
      "4      1\n",
      "      ..\n",
      "173    0\n",
      "174    0\n",
      "175    0\n",
      "176    0\n",
      "177    0\n",
      "Name: target, Length: 178, dtype: int64\n"
     ]
    },
    {
     "data": {
      "image/png": "[encoded data removed]",
      "text/plain": [
       "<Figure size 576x432 with 1 Axes>"
      ]
     },
     "metadata": {
      "needs_background": "light"
     },
     "output_type": "display_data"
    }
   ],
   "source": [
    "from sklearn import datasets\n",
    "from sklearn.preprocessing import StandardScaler\n",
    "import numpy as np\n",
    "import matplotlib.pyplot as plt\n",
    "\n",
    "X_wine = datasets.load_wine(as_frame = True).data[['color_intensity', 'hue']]\n",
    "y_wine = (datasets.load_wine(as_frame = True).target == 0)*1\n",
    "\n",
    "print(X_wine)\n",
    "print(y_wine)\n",
    "\n",
    "# Scale X_wine.\n",
    "scaler = StandardScaler()\n",
    "X_wine = scaler.fit_transform(X=X_wine)\n",
    "\n",
    "fig, ax = plt.subplots(figsize=(8,6));\n",
    "scatter = ax.scatter(X_wine[:,0], X_wine[:,1],c=y_wine)\n",
    "ax.legend(handles=scatter.legend_elements()[0],labels=['0','1'], fontsize=16);\n",
    "ax.set_xlabel(\"Color Intensity (Scaled)\")\n",
    "ax.set_ylabel(\"Hue (Scaled)\")\n",
    "ax.set_title(\"Wine\");"
   ]
  },
  {
   "cell_type": "markdown",
   "id": "f287590e",
   "metadata": {},
   "source": [
    "## 4.1\n",
    "Fit an SVM model with a linear kernel to the whole dataset and print the accuracy on the whole dataset."
   ]
  },
  {
   "cell_type": "code",
   "execution_count": 67,
   "id": "ec694cca",
   "metadata": {},
   "outputs": [
    {
     "name": "stdout",
     "output_type": "stream",
     "text": [
      "Model accuracy is: 0.6853932584269663\n"
     ]
    }
   ],
   "source": [
    "from sklearn.metrics import accuracy_score\n",
    "from sklearn import svm\n",
    "\n",
    "# YOUR CODE HERE:\n",
    "clf = SVC(kernel='linear')\n",
    "clf.fit(X_wine, y_wine.ravel())\n",
    "#print('10-fold cv scores with Linear kernel: ', np.mean(cross_val_score(clf, X_wine, y_wine, cv=10)))\n",
    "print(\"Model accuracy is:\",clf.score(X_wine,y_wine))"
   ]
  },
  {
   "cell_type": "markdown",
   "id": "fdf2be17",
   "metadata": {},
   "source": [
    "## 4.2\n",
    "Describe qualitatively why SVM with linear kernel has limited accuracy for this dataset."
   ]
  },
  {
   "cell_type": "markdown",
   "id": "97e1a544",
   "metadata": {},
   "source": [
    "### Answer:\n",
    "SVM has poor accuracy and for some pratical problems are not linearly sepratebale. SVM is more effective in high dimensional spaces. SMV model with a linear kernel is kind of limited to interprete and to build model, which will give a low accuracy for the model.\n"
   ]
  },
  {
   "cell_type": "markdown",
   "id": "ad83d8bb",
   "metadata": {},
   "source": [
    "## 4.3\n",
    "Perform 10-fold CV with the following two SVM models:\n",
    "- One using an RBF kernel with C=1.\n",
    "- One using an RBF kernel with C=1e4.\n",
    "\n",
    "Print the mean 10-fold CV accuracies of the models."
   ]
  },
  {
   "cell_type": "code",
   "execution_count": 76,
   "id": "5f730b53",
   "metadata": {},
   "outputs": [
    {
     "name": "stdout",
     "output_type": "stream",
     "text": [
      "C=1 accuracy is: 0.8549019607843137\n",
      "C=1e4 accuracy is: 0.8379084967320262\n"
     ]
    }
   ],
   "source": [
    "from sklearn.metrics import accuracy_score\n",
    "from sklearn import svm\n",
    "from sklearn.model_selection import cross_val_score\n",
    "from sklearn.svm import SVC # \"Support vector classifier\"\n",
    "\n",
    "\n",
    "# YOUR CODE HERE:\n",
    "model1 = svm.SVC(kernel='rbf', C=1).fit(X_wine, y_wine)\n",
    "# We choose C, which is a regularization parameter, very large. More details below\n",
    "score1 = cross_val_score(model1, X_wine, y_wine, cv=10, scoring='accuracy')\n",
    "\n",
    "model2 = svm.SVC(kernel='rbf', C=1e4).fit(X_wine, y_wine)\n",
    "# We choose C, which is a regularization parameter, very large. More details below\n",
    "score2 = cross_val_score(model2, X_wine, y_wine, cv=10, scoring='accuracy')\n",
    "\n",
    "\n",
    "# Print the 'C=1 Mean Accuracy' and the 'C=1e4 Mean Accuracy'\n",
    "# YOUR CODE HERE:\n",
    "print(\"C=1 accuracy is:\", score1.mean())\n",
    "print(\"C=1e4 accuracy is:\", score2.mean())"
   ]
  },
  {
   "cell_type": "markdown",
   "id": "7813bf9f",
   "metadata": {},
   "source": [
    "## 4.4\n",
    "For each of the two models, create a plot showing:\n",
    "- The decision boundaries and margins, and\n",
    "- the support vectors (highlighted)."
   ]
  },
  {
   "cell_type": "code",
   "execution_count": 89,
   "id": "bfee2b0b-020c-441c-9b0d-ca500afb7f66",
   "metadata": {},
   "outputs": [
    {
     "data": {
      "image/png": "[encoded data removed]",
      "text/plain": [
       "<Figure size 432x288 with 1 Axes>"
      ]
     },
     "metadata": {
      "needs_background": "light"
     },
     "output_type": "display_data"
    },
    {
     "data": {
      "image/png": "[encoded data removed]",
      "text/plain": [
       "<Figure size 432x288 with 1 Axes>"
      ]
     },
     "metadata": {
      "needs_background": "light"
     },
     "output_type": "display_data"
    }
   ],
   "source": [
    "import numpy as np\n",
    "import matplotlib.pyplot as plt\n",
    "\n",
    "# Create grid to evaluate model\n",
    "# YOUR CODE HERE:\n",
    "\n",
    "\n",
    "#C=1\n",
    "xx = np.linspace(X_wine[:,0].min()-0.5, X_wine[:,0].max()+0.5, 30)\n",
    "yy = np.linspace(X_wine[:,1].min()-0.5, X_wine[:,1].max()+0.5, 30)\n",
    "YY, XX = np.meshgrid(yy, xx)\n",
    "xy = np.vstack([XX.ravel(), YY.ravel()]).T\n",
    "\n",
    "# Fit the model with C=1.\n",
    "# YOUR CODE HERE:\n",
    "\n",
    "model1 = svm.SVC(kernel='rbf', C=1)\n",
    "model1.fit(X_wine, y_wine.ravel()) \n",
    "\n",
    "Z1 = model1.decision_function(xy).reshape(XX.shape)\n",
    "\n",
    "\n",
    "# Plot decision boundary and margins\n",
    "# YOUR CODE HERE:\n",
    "\n",
    "plt.contour(XX, YY, Z1, colors='k', levels=[-1, 0, 1], alpha=0.5, linestyles=['--', '-', '--']);\n",
    "plt.scatter(X_wine[:,0], X_wine[:,1], c=y_wine);\n",
    "plt.show()\n",
    "\n",
    "\n",
    "#C=1e4\n",
    "\n",
    "xx = np.linspace(X_wine[:,0].min()-0.5, X_wine[:,0].max()+0.5, 30)\n",
    "yy = np.linspace(X_wine[:,1].min()-0.5, X_wine[:,1].max()+0.5, 30)\n",
    "YY, XX = np.meshgrid(yy, xx)\n",
    "xy = np.vstack([XX.ravel(), YY.ravel()]).T\n",
    "\n",
    "# Fit the model with C=1e4.\n",
    "# YOUR CODE HERE:\n",
    "model2 = svm.SVC(kernel='rbf', C=1e4)\n",
    "model2.fit(X_wine, y_wine.ravel()) \n",
    "Z2 = model2.decision_function(xy).reshape(XX.shape)\n",
    "\n",
    "\n",
    "# Plot decision boundary and margins\n",
    "# YOUR CODE HERE:\n",
    "plt.contour(XX, YY, Z2, colors='k', levels=[-1, 0, 1], alpha=0.5, linestyles=['--', '-', '--']);\n",
    "plt.scatter(X_wine[:,0], X_wine[:,1], c=y_wine);\n",
    "plt.show()\n"
   ]
  }
 ],
 "metadata": {
  "kernelspec": {
   "display_name": "Python 3",
   "language": "python",
   "name": "python3"
  },
  "language_info": {
   "codemirror_mode": {
    "name": "ipython",
    "version": 3
   },
   "file_extension": ".py",
   "mimetype": "text/x-python",
   "name": "python",
   "nbconvert_exporter": "python",
   "pygments_lexer": "ipython3",
   "version": "3.8.8"
  },
  "varInspector": {
   "cols": {
    "lenName": 16,
    "lenType": 16,
    "lenVar": 40
   },
   "kernels_config": {
    "python": {
     "delete_cmd_postfix": "",
     "delete_cmd_prefix": "del ",
     "library": "var_list.py",
     "varRefreshCmd": "print(var_dic_list())"
    },
    "r": {
     "delete_cmd_postfix": ") ",
     "delete_cmd_prefix": "rm(",
     "library": "var_list.r",
     "varRefreshCmd": "cat(var_dic_list()) "
    }
   },
   "types_to_exclude": [
    "module",
    "function",
    "builtin_function_or_method",
    "instance",
    "_Feature"
   ],
   "window_display": false
  }
 },
 "nbformat": 4,
 "nbformat_minor": 5
}
