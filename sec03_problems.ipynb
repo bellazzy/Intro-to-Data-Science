{
 "cells": [
  {
   "cell_type": "code",
   "execution_count": null,
   "metadata": {
    "id": "ncl_tbDqCZ6R"
   },
   "outputs": [],
   "source": []
  },
  {
   "cell_type": "markdown",
   "metadata": {
    "id": "oySexDZLCivo"
   },
   "source": [
    "### Problem 1\n",
    "\n",
    "Load \"the original dataset\" from https://www4.stat.ncsu.edu/~boos/var.select/diabetes.html into a pandas dataframe. (Hints: pandas.read_csv can read in a tab-separated file and information on the columns can be obtained from the brief description through the link above) \n",
    "1. What is the output variable for this dataset? (i.e. which variable is the one that a data scientist would predict, using this dataset?)\n",
    "2. All the other columns in the dataset are the attributes. For each attribute: compute the mean and the standard deviation. For all of the attributes together, create a correlation matrix (Using Pearson correlation coefficients). Please use numpy and scipy methods. Next, calculate a correlation matrix using the pandas method (your dataframe variable name).corr. Did you get the same values?\n",
    "3. Does it make sense to calculate the mean and standard deviation for all of the columns? Is the correlation meaningful? Why or why not?\n",
    "4. Why is the main diagonal of the correlation coefficient equal to a vector of ones? Justify your answer\n"
   ]
  },
  {
   "cell_type": "code",
   "execution_count": null,
   "metadata": {},
   "outputs": [],
   "source": []
  },
  {
   "cell_type": "markdown",
   "metadata": {},
   "source": [
    "### Problem 2"
   ]
  },
  {
   "cell_type": "markdown",
   "metadata": {},
   "source": [
    "###### Part 1: Predict the values of the output variable you identified above.\n",
    "1. Normalize all columns which it makes sense to normalize\n",
    "2. Separate the entries into train and test segments randomly. Have the train segment contain 80%, about 354 entries. Let the test segment contain the remaining entries.\n",
    "3. Use scikit-learn's linear regression algorithm to train on two columns of the train set, and test on the test set.\n",
    "4. Use the linear regression algorithm to train on all the columns of the train set, and test on the test set.\n",
    "5. Try different combinations of columns. See if you can find any combination that is better than using all of the columns.\n",
    "6. Based on the values of MSE or R-squared of the train set and test set, what combination do you think is the best? "
   ]
  },
  {
   "cell_type": "code",
   "execution_count": null,
   "metadata": {},
   "outputs": [],
   "source": []
  },
  {
   "cell_type": "markdown",
   "metadata": {
    "colab": {
     "base_uri": "https://localhost:8080/"
    },
    "id": "S9CWePYFLlPR",
    "outputId": "31bab0f6-b032-4eb0-deb0-657f25ac2ddd"
   },
   "source": [
    "###### Part 2: Use Linear Regression on Quadratic Features\n",
    "Use sklearn.preprocessing.PolynomialFeatures to expand the data set to include nonlinear elements, then perform linear regression again. Is this a better model comparing with the one you find in part 1?\n",
    "\n",
    "reference:https://scikit-learn.org/stable/modules/generated/sklearn.preprocessing.PolynomialFeatures.html"
   ]
  },
  {
   "cell_type": "code",
   "execution_count": null,
   "metadata": {},
   "outputs": [],
   "source": []
  }
 ],
 "metadata": {
  "colab": {
   "collapsed_sections": [],
   "name": "Discussion Problems Week 3.ipynb",
   "provenance": []
  },
  "kernelspec": {
   "display_name": "Python 3 (ipykernel)",
   "language": "python",
   "name": "python3"
  },
  "language_info": {
   "codemirror_mode": {
    "name": "ipython",
    "version": 3
   },
   "file_extension": ".py",
   "mimetype": "text/x-python",
   "name": "python",
   "nbconvert_exporter": "python",
   "pygments_lexer": "ipython3",
   "version": "3.7.11"
  }
 },
 "nbformat": 4,
 "nbformat_minor": 1
}
