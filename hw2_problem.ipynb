{
 "cells": [
  {
   "cell_type": "markdown",
   "id": "41961646",
   "metadata": {},
   "source": [
    "# Homework 2 - Introduction to Data Science - Fall 2021\n",
    "\n",
    "## Guidelines\n",
    "- Answer in the Markdown or code cells given below the questions.\n",
    "- Comment code where appropriate for clarity."
   ]
  },
  {
   "cell_type": "markdown",
   "id": "c2ebdfbd",
   "metadata": {},
   "source": [
    "# Problem 1\n",
    "In the following exercise, we will perform Bayesian inference to estimate a parameter $\\lambda$ using data generated from an exponential distribution with the unknown parameter $\\lambda$, i.e. $Y \\sim Exponential(\\lambda) $ with the exponential density function given by:\n",
    "\n",
    "$$p(y_{i}|\\lambda) = \\lambda e^{-\\lambda y_{i}}$$\n",
    "\n",
    "where $\\lambda> 0$.  We load the data below."
   ]
  },
  {
   "cell_type": "code",
   "execution_count": 25,
   "id": "cb6f844e",
   "metadata": {},
   "outputs": [],
   "source": [
    "Y = [1.11659426, 0.14591992, 0.9003231 , 1.05267893, 0.59665315,\n",
    "       0.62196716, 0.0501256 , 2.2569046 , 0.59176357, 0.27908501,\n",
    "       0.09001983, 0.05302138, 0.19794783, 0.71657887, 0.94523602,\n",
    "       0.44210873, 0.17189032, 0.4104458 , 0.30163634, 1.0564698 ,\n",
    "       0.15813088, 1.57609817, 0.62982101, 0.37747863, 0.10139393,\n",
    "       2.44308245, 0.52684559, 0.73786292, 0.21034834, 0.44559072,\n",
    "       0.16346868, 0.51826629, 0.0785872 , 0.21773059, 0.14507205,\n",
    "       0.26167145, 1.30119327, 0.00881093, 0.77196405, 0.96493311,\n",
    "       0.57850034, 0.6733615 , 0.53110575, 2.84934561, 0.09835044,\n",
    "       0.11307157, 1.3428276 , 0.1704228 , 0.41692473, 1.48197104,\n",
    "       0.05143844, 0.2103084 , 0.33847738, 1.19901459, 0.13828761,\n",
    "       0.56981701, 0.07084937, 0.63245193, 0.66973814, 0.23941691,\n",
    "       0.1019617 , 0.77316563, 0.19573404, 0.54167001, 0.18553303,\n",
    "       0.42725298, 0.59527454, 0.91323428, 0.7351151 , 0.65058701,\n",
    "       0.0504051 , 0.45197308, 0.04504415, 0.28518144, 1.34887045,\n",
    "       0.69967626, 0.23990762, 0.03207982, 0.00399789, 0.03258423,\n",
    "       1.05381261, 0.08938671, 1.04649714, 0.1472991 , 0.02720062,\n",
    "       0.01421303, 0.23445255, 0.95165048, 0.20992524, 0.19655135,\n",
    "       0.64897642, 0.27907629, 1.21557848, 0.27363763, 0.29139022,\n",
    "       0.40552119, 0.09628245, 0.09214942, 0.19160858, 0.41977512]"
   ]
  },
  {
   "cell_type": "markdown",
   "id": "60516b26",
   "metadata": {},
   "source": [
    "## 1.1\n",
    "Assume a $\\text{Gamma}(2,2)$ prior for the parameter $\\lambda$. In a single plot, overlay the prior density of $\\lambda$ and posterior density of $\\lambda$ given the samples $Y$. Plot the densities over the interval $(0,6]$.\n",
    "\n",
    "Hint: You may read more about the gamma distribution in [the SciPy documentation](https://docs.scipy.org/doc/scipy/reference/generated/scipy.stats.gamma.html)."
   ]
  },
  {
   "cell_type": "code",
   "execution_count": 79,
   "id": "b5eaa742",
   "metadata": {},
   "outputs": [
    {
     "ename": "SyntaxError",
     "evalue": "invalid syntax (<ipython-input-79-091ec7eecd62>, line 15)",
     "output_type": "error",
     "traceback": [
      "\u001b[0;36m  File \u001b[0;32m\"<ipython-input-79-091ec7eecd62>\"\u001b[0;36m, line \u001b[0;32m15\u001b[0m\n\u001b[0;31m    prior = 1\u001b[0m\n\u001b[0m    ^\u001b[0m\n\u001b[0;31mSyntaxError\u001b[0m\u001b[0;31m:\u001b[0m invalid syntax\n"
     ]
    }
   ],
   "source": [
    "import scipy.stats as stats\n",
    "import numpy as np\n",
    "import matplotlib.pyplot as plt\n",
    "\n",
    "# support\n",
    "support = np.linspace(0.01, 6, 100)\n",
    "\n",
    "# likelihood\n",
    "\n",
    "likelihood = \n",
    "\n",
    "# prior\n",
    "# add your code here\n",
    "prior = \n",
    "\n",
    "# posterior\n",
    "# add your code here\n",
    "\n",
    "post = \n",
    "\n",
    "# plot\n",
    "fig, ax = plt.subplots(1,1)\n",
    "ax.plot(support, prior)\n",
    "ax.plot(support, post)\n",
    "ax.legend(labels=[\"prior\", \"posterior | data\"]);"
   ]
  },
  {
   "cell_type": "markdown",
   "id": "1cbe0b01",
   "metadata": {},
   "source": [
    "## 1.2 \n",
    "Plot the density of $Gamma(2+length(Y),2+\\sum_{y_i \\in Y} y_i)$ and the posterior density of $\\lambda$ we got in 1.1 over the interval $(0,6]$ separately. What can you conclude? Do the prior distribution and the posterior distribution belong to the same probability distribution family? "
   ]
  },
  {
   "cell_type": "code",
   "execution_count": 27,
   "id": "18d0f586",
   "metadata": {},
   "outputs": [
    {
     "ename": "SyntaxError",
     "evalue": "invalid syntax (<ipython-input-27-0e08a0f29f05>, line 4)",
     "output_type": "error",
     "traceback": [
      "\u001b[0;36m  File \u001b[0;32m\"<ipython-input-27-0e08a0f29f05>\"\u001b[0;36m, line \u001b[0;32m4\u001b[0m\n\u001b[0;31m    gvalue =\u001b[0m\n\u001b[0m             ^\u001b[0m\n\u001b[0;31mSyntaxError\u001b[0m\u001b[0;31m:\u001b[0m invalid syntax\n"
     ]
    }
   ],
   "source": [
    "# plot the given gamma distribution on the support\n",
    "# add your code here\n",
    "\n",
    "gvalue = \n",
    "\n",
    "ax1 = plt.subplot(2,1,1)\n",
    "ax1.plot(support,gvalue, scale=1/(2+sum(Y))));\n",
    "ax1.legend(labels=[\"Gamma\"])\n",
    "ax2 = plt.subplot(2,1,2)\n",
    "ax2.plot(support, post,'r');\n",
    "ax2.legend(labels=[\"posterior | data\"])"
   ]
  },
  {
   "cell_type": "markdown",
   "id": "782a5586",
   "metadata": {},
   "source": [
    "#### Answer:\n"
   ]
  },
  {
   "cell_type": "markdown",
   "id": "b6accc00",
   "metadata": {},
   "source": [
    "## 1.3\n",
    "In Bayesian statistics, if the posterior distribution $p(\\theta | x)$ is in the same probability distribution family as the prior probability distribution $p(\\theta)$, then the prior is called a conjugate prior for $p(\\theta | x)$. So if given a conjugate prior, the posterior would be easy to identify. But in many cases, we do not have a conjugate prior. Usually, we would use Monte Carlo simulation methods.\n",
    "\n",
    "Implement a Metropolis-Hastings algorithm to sample from the posterior distribution of $\\lambda$ using the data $Y$. Use a normal distribution $\\mathcal{N}(\\lambda^{(i-1)},1/2)$ as the proposal distribution. Print the acceptance rate and estimate the probability that $\\lambda$ is smaller than 2 using the samples.\n"
   ]
  },
  {
   "cell_type": "code",
   "execution_count": 28,
   "id": "f462082d",
   "metadata": {},
   "outputs": [
    {
     "ename": "SyntaxError",
     "evalue": "invalid syntax (<ipython-input-28-927c8274fc62>, line 14)",
     "output_type": "error",
     "traceback": [
      "\u001b[0;36m  File \u001b[0;32m\"<ipython-input-28-927c8274fc62>\"\u001b[0;36m, line \u001b[0;32m14\u001b[0m\n\u001b[0;31m    acpt_rate =\u001b[0m\n\u001b[0m                ^\u001b[0m\n\u001b[0;31mSyntaxError\u001b[0m\u001b[0;31m:\u001b[0m invalid syntax\n"
     ]
    }
   ],
   "source": [
    "# Metropolis-Hastings\n",
    "np.random.seed(seed=553)\n",
    "\n",
    "lbd_0 = 1  # initial value\n",
    "m = 10000  # number of proposal samples\n",
    "lbd = [lbd_0]   # list to store accepted samples\n",
    "\n",
    "\n",
    "# add your code here\n",
    "\n",
    "\n",
    "\n",
    "# compute the acceptance rate\n",
    "acpt_rate = \n",
    "\n",
    "print('The acceptance rate of MH is {0:0.4f}'. format(acpt_rate))\n",
    "\n",
    "# compute the estimated probability using the samples in \"lbd\"\n",
    "estprob_MH = \n",
    "\n",
    "print('The estimated probability by MH is {0:0.4f}'. format(estprob_MH))"
   ]
  },
  {
   "cell_type": "markdown",
   "id": "b8cf42e0",
   "metadata": {},
   "source": [
    "## 1.4\n",
    "Also, complete the code below for rejection sampling and compare the results of the MH sampling and the rejection sampling with the true value. Which sampling method is better based on the acceptance ratios and the probability estimations?\n",
    "\n",
    "Hint: You can use $Gamma(2+length(Y),2+\\sum_{y_i \\in Y} y_i)$ to compute the true probability $P(\\lambda<2)$."
   ]
  },
  {
   "cell_type": "code",
   "execution_count": 29,
   "id": "ccae43cf",
   "metadata": {},
   "outputs": [
    {
     "ename": "SyntaxError",
     "evalue": "invalid syntax (<ipython-input-29-d39edfc2c29e>, line 14)",
     "output_type": "error",
     "traceback": [
      "\u001b[0;36m  File \u001b[0;32m\"<ipython-input-29-d39edfc2c29e>\"\u001b[0;36m, line \u001b[0;32m14\u001b[0m\n\u001b[0;31m    values =\u001b[0m\n\u001b[0m             ^\u001b[0m\n\u001b[0;31mSyntaxError\u001b[0m\u001b[0;31m:\u001b[0m invalid syntax\n"
     ]
    }
   ],
   "source": [
    "#Rejection sampling\n",
    "\n",
    "np.random.seed(seed=436)\n",
    "\n",
    "M = 10**(-15)   # target density less than M times proposal density\n",
    "\n",
    "S = stats.norm.rvs(size=10000, loc = 0, scale=2)   # proposal samples\n",
    "\n",
    "# target function\n",
    "def f(x):\n",
    "    \n",
    "    # add your code here\n",
    "\n",
    "    values = \n",
    "    \n",
    "    return values\n",
    "\n",
    "#proposal function\n",
    "g = stats.norm.pdf(S,loc = 1,scale=1)\n",
    "\n",
    "#ratio\n",
    "ratio = f(S)/g\n",
    "\n",
    "#sampling\n",
    "samples = S[stats.uniform.rvs(size=10000) <= ratio/M]\n",
    "\n",
    "# compute the acceptancerate\n",
    "acpt_rate =     # add your code here\n",
    "\n",
    "print('The acceptance rate of rejection sampling is {0:0.4f}'. format(acpt_rate))\n",
    "\n",
    "\n",
    "# estimating the probability\n",
    "estprob_r =     # add your code here\n",
    "\n",
    "\n",
    "print('The estimated probability by rejection sampling is {0:0.4f}'. format(estprob_r))\n",
    "\n",
    "# compute the true probability\n",
    "# add your code here\n",
    "\n",
    "prob_t = \n",
    "print('The true probability is {0:0.4f}'. format(prob_t))"
   ]
  },
  {
   "cell_type": "markdown",
   "id": "33fbd813",
   "metadata": {},
   "source": [
    "### Answer:"
   ]
  },
  {
   "cell_type": "markdown",
   "id": "f632fe3e",
   "metadata": {},
   "source": [
    "# Problem 2\n",
    "We load and preprocess the [breast cancer](https://scikit-learn.org/stable/datasets/toy_dataset.html#breast-cancer-dataset) dataset from sklearn.datasets. \n",
    "\n",
    "Read the description of the dataset. Note that the target is encoded as 0 for class \"malignant\" and \"1\" for class \"benign\"."
   ]
  },
  {
   "cell_type": "code",
   "execution_count": 30,
   "id": "daabedac",
   "metadata": {},
   "outputs": [],
   "source": [
    "import pandas as pd\n",
    "from sklearn.datasets import load_breast_cancer\n",
    "from sklearn.preprocessing import StandardScaler\n",
    "\n",
    "cancer_bunch = load_breast_cancer()\n",
    "cancer_pred = pd.DataFrame(cancer_bunch['data'], columns=cancer_bunch['feature_names'])\n",
    "cancer_targ = pd.DataFrame(cancer_bunch['target'], columns=[\"Class\"])\n",
    "\n",
    "\n",
    "scaler = StandardScaler()\n",
    "cancer_pred = scaler.fit_transform(cancer_pred)"
   ]
  },
  {
   "cell_type": "markdown",
   "id": "7c044323",
   "metadata": {},
   "source": [
    "## 2.1\n",
    "We will proceed to perform KNN classification. Split the dataset into separate training and test sets using a test size of 1/5 and random_state=636."
   ]
  },
  {
   "cell_type": "raw",
   "id": "52bc6aad-db2a-455e-9cc3-7e0ce69e5ed1",
   "metadata": {},
   "source": [
    "from sklearn.model_selection import train_test_split\n",
    "\n",
    "X_train, X_test, y_train, y_test =  train_test_split(cancer_pred, cancer_targ, test_size=0.2, \n",
    "                                                     random_state=636, stratify = cancer_targ)"
   ]
  },
  {
   "cell_type": "markdown",
   "id": "63cd2b13",
   "metadata": {},
   "source": [
    "## 2.2\n",
    "For K between 1 and 30 inclusive, create a plot of the mean accuracies of KNN from 4-fold cross validation on the **training set**. Which K you would pick based on the results?"
   ]
  },
  {
   "cell_type": "code",
   "execution_count": 40,
   "id": "15174ef0",
   "metadata": {},
   "outputs": [
    {
     "name": "stderr",
     "output_type": "stream",
     "text": [
      "/Users/bella/opt/anaconda3/lib/python3.8/site-packages/sklearn/neighbors/_classification.py:179: DataConversionWarning: A column-vector y was passed when a 1d array was expected. Please change the shape of y to (n_samples,), for example using ravel().\n",
      "  return self._fit(X, y)\n",
      "/Users/bella/opt/anaconda3/lib/python3.8/site-packages/sklearn/neighbors/_classification.py:179: DataConversionWarning: A column-vector y was passed when a 1d array was expected. Please change the shape of y to (n_samples,), for example using ravel().\n",
      "  return self._fit(X, y)\n",
      "/Users/bella/opt/anaconda3/lib/python3.8/site-packages/sklearn/neighbors/_classification.py:179: DataConversionWarning: A column-vector y was passed when a 1d array was expected. Please change the shape of y to (n_samples,), for example using ravel().\n",
      "  return self._fit(X, y)\n",
      "/Users/bella/opt/anaconda3/lib/python3.8/site-packages/sklearn/neighbors/_classification.py:179: DataConversionWarning: A column-vector y was passed when a 1d array was expected. Please change the shape of y to (n_samples,), for example using ravel().\n",
      "  return self._fit(X, y)\n",
      "/Users/bella/opt/anaconda3/lib/python3.8/site-packages/sklearn/neighbors/_classification.py:179: DataConversionWarning: A column-vector y was passed when a 1d array was expected. Please change the shape of y to (n_samples,), for example using ravel().\n",
      "  return self._fit(X, y)\n",
      "/Users/bella/opt/anaconda3/lib/python3.8/site-packages/sklearn/neighbors/_classification.py:179: DataConversionWarning: A column-vector y was passed when a 1d array was expected. Please change the shape of y to (n_samples,), for example using ravel().\n",
      "  return self._fit(X, y)\n",
      "/Users/bella/opt/anaconda3/lib/python3.8/site-packages/sklearn/neighbors/_classification.py:179: DataConversionWarning: A column-vector y was passed when a 1d array was expected. Please change the shape of y to (n_samples,), for example using ravel().\n",
      "  return self._fit(X, y)\n",
      "/Users/bella/opt/anaconda3/lib/python3.8/site-packages/sklearn/neighbors/_classification.py:179: DataConversionWarning: A column-vector y was passed when a 1d array was expected. Please change the shape of y to (n_samples,), for example using ravel().\n",
      "  return self._fit(X, y)\n",
      "/Users/bella/opt/anaconda3/lib/python3.8/site-packages/sklearn/neighbors/_classification.py:179: DataConversionWarning: A column-vector y was passed when a 1d array was expected. Please change the shape of y to (n_samples,), for example using ravel().\n",
      "  return self._fit(X, y)\n",
      "/Users/bella/opt/anaconda3/lib/python3.8/site-packages/sklearn/neighbors/_classification.py:179: DataConversionWarning: A column-vector y was passed when a 1d array was expected. Please change the shape of y to (n_samples,), for example using ravel().\n",
      "  return self._fit(X, y)\n",
      "/Users/bella/opt/anaconda3/lib/python3.8/site-packages/sklearn/neighbors/_classification.py:179: DataConversionWarning: A column-vector y was passed when a 1d array was expected. Please change the shape of y to (n_samples,), for example using ravel().\n",
      "  return self._fit(X, y)\n",
      "/Users/bella/opt/anaconda3/lib/python3.8/site-packages/sklearn/neighbors/_classification.py:179: DataConversionWarning: A column-vector y was passed when a 1d array was expected. Please change the shape of y to (n_samples,), for example using ravel().\n",
      "  return self._fit(X, y)\n",
      "/Users/bella/opt/anaconda3/lib/python3.8/site-packages/sklearn/neighbors/_classification.py:179: DataConversionWarning: A column-vector y was passed when a 1d array was expected. Please change the shape of y to (n_samples,), for example using ravel().\n",
      "  return self._fit(X, y)\n",
      "/Users/bella/opt/anaconda3/lib/python3.8/site-packages/sklearn/neighbors/_classification.py:179: DataConversionWarning: A column-vector y was passed when a 1d array was expected. Please change the shape of y to (n_samples,), for example using ravel().\n",
      "  return self._fit(X, y)\n",
      "/Users/bella/opt/anaconda3/lib/python3.8/site-packages/sklearn/neighbors/_classification.py:179: DataConversionWarning: A column-vector y was passed when a 1d array was expected. Please change the shape of y to (n_samples,), for example using ravel().\n",
      "  return self._fit(X, y)\n",
      "/Users/bella/opt/anaconda3/lib/python3.8/site-packages/sklearn/neighbors/_classification.py:179: DataConversionWarning: A column-vector y was passed when a 1d array was expected. Please change the shape of y to (n_samples,), for example using ravel().\n",
      "  return self._fit(X, y)\n",
      "/Users/bella/opt/anaconda3/lib/python3.8/site-packages/sklearn/neighbors/_classification.py:179: DataConversionWarning: A column-vector y was passed when a 1d array was expected. Please change the shape of y to (n_samples,), for example using ravel().\n",
      "  return self._fit(X, y)\n",
      "/Users/bella/opt/anaconda3/lib/python3.8/site-packages/sklearn/neighbors/_classification.py:179: DataConversionWarning: A column-vector y was passed when a 1d array was expected. Please change the shape of y to (n_samples,), for example using ravel().\n",
      "  return self._fit(X, y)\n",
      "/Users/bella/opt/anaconda3/lib/python3.8/site-packages/sklearn/neighbors/_classification.py:179: DataConversionWarning: A column-vector y was passed when a 1d array was expected. Please change the shape of y to (n_samples,), for example using ravel().\n",
      "  return self._fit(X, y)\n",
      "/Users/bella/opt/anaconda3/lib/python3.8/site-packages/sklearn/neighbors/_classification.py:179: DataConversionWarning: A column-vector y was passed when a 1d array was expected. Please change the shape of y to (n_samples,), for example using ravel().\n",
      "  return self._fit(X, y)\n",
      "/Users/bella/opt/anaconda3/lib/python3.8/site-packages/sklearn/neighbors/_classification.py:179: DataConversionWarning: A column-vector y was passed when a 1d array was expected. Please change the shape of y to (n_samples,), for example using ravel().\n",
      "  return self._fit(X, y)\n",
      "/Users/bella/opt/anaconda3/lib/python3.8/site-packages/sklearn/neighbors/_classification.py:179: DataConversionWarning: A column-vector y was passed when a 1d array was expected. Please change the shape of y to (n_samples,), for example using ravel().\n",
      "  return self._fit(X, y)\n",
      "/Users/bella/opt/anaconda3/lib/python3.8/site-packages/sklearn/neighbors/_classification.py:179: DataConversionWarning: A column-vector y was passed when a 1d array was expected. Please change the shape of y to (n_samples,), for example using ravel().\n",
      "  return self._fit(X, y)\n",
      "/Users/bella/opt/anaconda3/lib/python3.8/site-packages/sklearn/neighbors/_classification.py:179: DataConversionWarning: A column-vector y was passed when a 1d array was expected. Please change the shape of y to (n_samples,), for example using ravel().\n",
      "  return self._fit(X, y)\n",
      "/Users/bella/opt/anaconda3/lib/python3.8/site-packages/sklearn/neighbors/_classification.py:179: DataConversionWarning: A column-vector y was passed when a 1d array was expected. Please change the shape of y to (n_samples,), for example using ravel().\n",
      "  return self._fit(X, y)\n",
      "/Users/bella/opt/anaconda3/lib/python3.8/site-packages/sklearn/neighbors/_classification.py:179: DataConversionWarning: A column-vector y was passed when a 1d array was expected. Please change the shape of y to (n_samples,), for example using ravel().\n",
      "  return self._fit(X, y)\n",
      "/Users/bella/opt/anaconda3/lib/python3.8/site-packages/sklearn/neighbors/_classification.py:179: DataConversionWarning: A column-vector y was passed when a 1d array was expected. Please change the shape of y to (n_samples,), for example using ravel().\n",
      "  return self._fit(X, y)\n",
      "/Users/bella/opt/anaconda3/lib/python3.8/site-packages/sklearn/neighbors/_classification.py:179: DataConversionWarning: A column-vector y was passed when a 1d array was expected. Please change the shape of y to (n_samples,), for example using ravel().\n",
      "  return self._fit(X, y)\n",
      "/Users/bella/opt/anaconda3/lib/python3.8/site-packages/sklearn/neighbors/_classification.py:179: DataConversionWarning: A column-vector y was passed when a 1d array was expected. Please change the shape of y to (n_samples,), for example using ravel().\n",
      "  return self._fit(X, y)\n",
      "/Users/bella/opt/anaconda3/lib/python3.8/site-packages/sklearn/neighbors/_classification.py:179: DataConversionWarning: A column-vector y was passed when a 1d array was expected. Please change the shape of y to (n_samples,), for example using ravel().\n",
      "  return self._fit(X, y)\n"
     ]
    },
    {
     "data": {
      "image/png": "[encoded data removed]",
      "text/plain": [
       "<Figure size 432x288 with 1 Axes>"
      ]
     },
     "metadata": {
      "needs_background": "light"
     },
     "output_type": "display_data"
    }
   ],
   "source": [
    "from sklearn.neighbors import KNeighborsClassifier\n",
    "from sklearn.model_selection import cross_val_score\n",
    "import matplotlib.pyplot as plt\n",
    "from sklearn.metrics import accuracy_score,classification_report,mean_squared_error,confusion_matrix, r2_score, roc_curve, auc\n",
    "\n",
    "\n",
    "# build K-NN classificaiton models for k between 1 and 30.\n",
    "k = (range(1,31))\n",
    "# list to store the average cross-validation accuracies\n",
    "knn_score = []\n",
    "\n",
    "\n",
    "\n",
    "for i in k:\n",
    "    knn_model = KNeighborsClassifier(n_neighbors=i)\n",
    "    knn_model.fit(X_train, y_train)\n",
    "    preds = knn_model.predict(X_test)\n",
    "    accuracy = accuracy_score(preds,y_test)\n",
    "    mse = mean_squared_error(preds,y_test)\n",
    "    knn_score.append(accuracy)\n",
    "\n",
    "# Plot\n",
    "plt.plot(k, knn_score, \"-o\", label = \"accuracy\")\n",
    "plt.xlabel('number of neighbors')\n",
    "# Set the y axis label of the current axis.\n",
    "plt.ylabel('accuracy')\n",
    "# Set a title of the current axes.\n",
    "plt.title('Accuracy for KNN with different neighbors')\n",
    "# show a legend on the plot\n",
    "plt.legend()\n",
    "# Display a figure.\n",
    "plt.show()"
   ]
  },
  {
   "cell_type": "markdown",
   "id": "a2afaba3",
   "metadata": {},
   "source": [
    "### Answer:"
   ]
  },
  {
   "cell_type": "markdown",
   "id": "2405daab",
   "metadata": {},
   "source": [
    "## 2.4\n",
    "For the K that you identified, print the accuracy and visualize the confusion matrix of the predictions on the test set of the KNN model."
   ]
  },
  {
   "cell_type": "code",
   "execution_count": 49,
   "id": "b2857f11",
   "metadata": {},
   "outputs": [
    {
     "name": "stdout",
     "output_type": "stream",
     "text": [
      "accuracy score on test set: 0.9474\n"
     ]
    },
    {
     "name": "stderr",
     "output_type": "stream",
     "text": [
      "/Users/bella/opt/anaconda3/lib/python3.8/site-packages/sklearn/neighbors/_classification.py:179: DataConversionWarning: A column-vector y was passed when a 1d array was expected. Please change the shape of y to (n_samples,), for example using ravel().\n",
      "  return self._fit(X, y)\n"
     ]
    },
    {
     "ename": "TypeError",
     "evalue": "float() argument must be a string or a number, not 'ConfusionMatrixDisplay'",
     "output_type": "error",
     "traceback": [
      "\u001b[0;31m---------------------------------------------------------------------------\u001b[0m",
      "\u001b[0;31mTypeError\u001b[0m                                 Traceback (most recent call last)",
      "\u001b[0;32m<ipython-input-49-9c2dc163e234>\u001b[0m in \u001b[0;36m<module>\u001b[0;34m\u001b[0m\n\u001b[1;32m     26\u001b[0m confusion_m = pd.DataFrame(data=cm_knn, columns=['Actual Positive:1', 'Actual Negative:0'], \n\u001b[1;32m     27\u001b[0m                                  index=['Predict Positive:1', 'Predict Negative:0'])\n\u001b[0;32m---> 28\u001b[0;31m \u001b[0msns\u001b[0m\u001b[0;34m.\u001b[0m\u001b[0mheatmap\u001b[0m\u001b[0;34m(\u001b[0m\u001b[0mconfusion_m\u001b[0m \u001b[0;34m,\u001b[0m \u001b[0mannot\u001b[0m\u001b[0;34m=\u001b[0m\u001b[0;32mTrue\u001b[0m\u001b[0;34m,\u001b[0m \u001b[0mfmt\u001b[0m\u001b[0;34m=\u001b[0m\u001b[0;34m'd'\u001b[0m\u001b[0;34m,\u001b[0m \u001b[0mcmap\u001b[0m\u001b[0;34m=\u001b[0m\u001b[0;34m'YlGnBu'\u001b[0m\u001b[0;34m)\u001b[0m\u001b[0;34m\u001b[0m\u001b[0;34m\u001b[0m\u001b[0m\n\u001b[0m",
      "\u001b[0;32m~/opt/anaconda3/lib/python3.8/site-packages/seaborn/_decorators.py\u001b[0m in \u001b[0;36minner_f\u001b[0;34m(*args, **kwargs)\u001b[0m\n\u001b[1;32m     44\u001b[0m             )\n\u001b[1;32m     45\u001b[0m         \u001b[0mkwargs\u001b[0m\u001b[0;34m.\u001b[0m\u001b[0mupdate\u001b[0m\u001b[0;34m(\u001b[0m\u001b[0;34m{\u001b[0m\u001b[0mk\u001b[0m\u001b[0;34m:\u001b[0m \u001b[0marg\u001b[0m \u001b[0;32mfor\u001b[0m \u001b[0mk\u001b[0m\u001b[0;34m,\u001b[0m \u001b[0marg\u001b[0m \u001b[0;32min\u001b[0m \u001b[0mzip\u001b[0m\u001b[0;34m(\u001b[0m\u001b[0msig\u001b[0m\u001b[0;34m.\u001b[0m\u001b[0mparameters\u001b[0m\u001b[0;34m,\u001b[0m \u001b[0margs\u001b[0m\u001b[0;34m)\u001b[0m\u001b[0;34m}\u001b[0m\u001b[0;34m)\u001b[0m\u001b[0;34m\u001b[0m\u001b[0;34m\u001b[0m\u001b[0m\n\u001b[0;32m---> 46\u001b[0;31m         \u001b[0;32mreturn\u001b[0m \u001b[0mf\u001b[0m\u001b[0;34m(\u001b[0m\u001b[0;34m**\u001b[0m\u001b[0mkwargs\u001b[0m\u001b[0;34m)\u001b[0m\u001b[0;34m\u001b[0m\u001b[0;34m\u001b[0m\u001b[0m\n\u001b[0m\u001b[1;32m     47\u001b[0m     \u001b[0;32mreturn\u001b[0m \u001b[0minner_f\u001b[0m\u001b[0;34m\u001b[0m\u001b[0;34m\u001b[0m\u001b[0m\n\u001b[1;32m     48\u001b[0m \u001b[0;34m\u001b[0m\u001b[0m\n",
      "\u001b[0;32m~/opt/anaconda3/lib/python3.8/site-packages/seaborn/matrix.py\u001b[0m in \u001b[0;36mheatmap\u001b[0;34m(data, vmin, vmax, cmap, center, robust, annot, fmt, annot_kws, linewidths, linecolor, cbar, cbar_kws, cbar_ax, square, xticklabels, yticklabels, mask, ax, **kwargs)\u001b[0m\n\u001b[1;32m    533\u001b[0m     \"\"\"\n\u001b[1;32m    534\u001b[0m     \u001b[0;31m# Initialize the plotter object\u001b[0m\u001b[0;34m\u001b[0m\u001b[0;34m\u001b[0m\u001b[0;34m\u001b[0m\u001b[0m\n\u001b[0;32m--> 535\u001b[0;31m     plotter = _HeatMapper(data, vmin, vmax, cmap, center, robust, annot, fmt,\n\u001b[0m\u001b[1;32m    536\u001b[0m                           \u001b[0mannot_kws\u001b[0m\u001b[0;34m,\u001b[0m \u001b[0mcbar\u001b[0m\u001b[0;34m,\u001b[0m \u001b[0mcbar_kws\u001b[0m\u001b[0;34m,\u001b[0m \u001b[0mxticklabels\u001b[0m\u001b[0;34m,\u001b[0m\u001b[0;34m\u001b[0m\u001b[0;34m\u001b[0m\u001b[0m\n\u001b[1;32m    537\u001b[0m                           yticklabels, mask)\n",
      "\u001b[0;32m~/opt/anaconda3/lib/python3.8/site-packages/seaborn/matrix.py\u001b[0m in \u001b[0;36m__init__\u001b[0;34m(self, data, vmin, vmax, cmap, center, robust, annot, fmt, annot_kws, cbar, cbar_kws, xticklabels, yticklabels, mask)\u001b[0m\n\u001b[1;32m    153\u001b[0m \u001b[0;34m\u001b[0m\u001b[0m\n\u001b[1;32m    154\u001b[0m         \u001b[0;31m# Determine good default values for the colormapping\u001b[0m\u001b[0;34m\u001b[0m\u001b[0;34m\u001b[0m\u001b[0;34m\u001b[0m\u001b[0m\n\u001b[0;32m--> 155\u001b[0;31m         self._determine_cmap_params(plot_data, vmin, vmax,\n\u001b[0m\u001b[1;32m    156\u001b[0m                                     cmap, center, robust)\n\u001b[1;32m    157\u001b[0m \u001b[0;34m\u001b[0m\u001b[0m\n",
      "\u001b[0;32m~/opt/anaconda3/lib/python3.8/site-packages/seaborn/matrix.py\u001b[0m in \u001b[0;36m_determine_cmap_params\u001b[0;34m(self, plot_data, vmin, vmax, cmap, center, robust)\u001b[0m\n\u001b[1;32m    187\u001b[0m \u001b[0;34m\u001b[0m\u001b[0m\n\u001b[1;32m    188\u001b[0m         \u001b[0;31m# plot_data is a np.ma.array instance\u001b[0m\u001b[0;34m\u001b[0m\u001b[0;34m\u001b[0m\u001b[0;34m\u001b[0m\u001b[0m\n\u001b[0;32m--> 189\u001b[0;31m         \u001b[0mcalc_data\u001b[0m \u001b[0;34m=\u001b[0m \u001b[0mplot_data\u001b[0m\u001b[0;34m.\u001b[0m\u001b[0mastype\u001b[0m\u001b[0;34m(\u001b[0m\u001b[0mfloat\u001b[0m\u001b[0;34m)\u001b[0m\u001b[0;34m.\u001b[0m\u001b[0mfilled\u001b[0m\u001b[0;34m(\u001b[0m\u001b[0mnp\u001b[0m\u001b[0;34m.\u001b[0m\u001b[0mnan\u001b[0m\u001b[0;34m)\u001b[0m\u001b[0;34m\u001b[0m\u001b[0;34m\u001b[0m\u001b[0m\n\u001b[0m\u001b[1;32m    190\u001b[0m         \u001b[0;32mif\u001b[0m \u001b[0mvmin\u001b[0m \u001b[0;32mis\u001b[0m \u001b[0;32mNone\u001b[0m\u001b[0;34m:\u001b[0m\u001b[0;34m\u001b[0m\u001b[0;34m\u001b[0m\u001b[0m\n\u001b[1;32m    191\u001b[0m             \u001b[0;32mif\u001b[0m \u001b[0mrobust\u001b[0m\u001b[0;34m:\u001b[0m\u001b[0;34m\u001b[0m\u001b[0;34m\u001b[0m\u001b[0m\n",
      "\u001b[0;31mTypeError\u001b[0m: float() argument must be a string or a number, not 'ConfusionMatrixDisplay'"
     ]
    },
    {
     "data": {
      "image/png": "[encoded data removed]",
      "text/plain": [
       "<Figure size 432x288 with 2 Axes>"
      ]
     },
     "metadata": {
      "needs_background": "light"
     },
     "output_type": "display_data"
    },
    {
     "data": {
      "text/plain": [
       "<Figure size 432x432 with 0 Axes>"
      ]
     },
     "metadata": {},
     "output_type": "display_data"
    }
   ],
   "source": [
    "from sklearn.neighbors import KNeighborsClassifier\n",
    "from sklearn.metrics import accuracy_score\n",
    "from sklearn.metrics import confusion_matrix\n",
    "import seaborn as sns \n",
    "from sklearn import metrics\n",
    "\n",
    "\n",
    "\n",
    "#fit KNN to the training set with the K you pick and predict results on the test set\n",
    "\n",
    "# add your code here\n",
    "knn_model = KNeighborsClassifier(n_neighbors=4)\n",
    "knn_model.fit(X_train, y_train)\n",
    "\n",
    "\n",
    "#Report the accuracy scores on test set.\n",
    "acc =   accuracy_score(knn_preds_n4,y_test) \n",
    "\n",
    "print('accuracy score on test set: {0:0.4f}'. format(acc))\n",
    "\n",
    "#confusion matrix\n",
    "cm_knn = metrics.plot_confusion_matrix(knn_model,X_test,y_test)\n",
    "\n",
    "plt.figure(figsize=(6,6))\n",
    "\n",
    "confusion_m = pd.DataFrame(data=cm_knn, columns=['Actual Positive:1', 'Actual Negative:0'], \n",
    "                                 index=['Predict Positive:1', 'Predict Negative:0'])\n",
    "sns.heatmap(confusion_m , annot=True, fmt='d', cmap='YlGnBu')"
   ]
  },
  {
   "cell_type": "markdown",
   "id": "d538ac35",
   "metadata": {},
   "source": [
    "# Problem 3"
   ]
  },
  {
   "cell_type": "markdown",
   "id": "ff968a7d",
   "metadata": {},
   "source": [
    "Below we load NB.csv, which contains 2500 univariate observations, each of which are generated by one of two beta distributions. Recall that the density function for a $\\text{Beta}(a, b)$ distribution is\n",
    "\n",
    "$$f(x|a,b) = \\begin{cases}\\frac{\\Gamma(a+b)}{\\Gamma(a)\\Gamma(b)} x^{a-1}(1-x)^{b-1} & 0 \\leq x \\leq 1 \\\\\n",
    "0 & \\text{otherwise}\n",
    "\\end{cases}$$\n",
    "\n",
    "where $a,b>0$ and $\\Gamma(\\cdot)$ is the Gamma function. We are going to build a classification model to distinguish which of the two beta distribution each data point is coming from."
   ]
  },
  {
   "cell_type": "code",
   "execution_count": 63,
   "id": "7eaec1ad",
   "metadata": {},
   "outputs": [
    {
     "data": {
      "text/html": [
       "<div>\n",
       "<style scoped>\n",
       "    .dataframe tbody tr th:only-of-type {\n",
       "        vertical-align: middle;\n",
       "    }\n",
       "\n",
       "    .dataframe tbody tr th {\n",
       "        vertical-align: top;\n",
       "    }\n",
       "\n",
       "    .dataframe thead th {\n",
       "        text-align: right;\n",
       "    }\n",
       "</style>\n",
       "<table border=\"1\" class=\"dataframe\">\n",
       "  <thead>\n",
       "    <tr style=\"text-align: right;\">\n",
       "      <th></th>\n",
       "      <th>Feature</th>\n",
       "      <th>Class</th>\n",
       "    </tr>\n",
       "  </thead>\n",
       "  <tbody>\n",
       "    <tr>\n",
       "      <th>0</th>\n",
       "      <td>0.851149</td>\n",
       "      <td>1</td>\n",
       "    </tr>\n",
       "    <tr>\n",
       "      <th>1</th>\n",
       "      <td>0.136934</td>\n",
       "      <td>0</td>\n",
       "    </tr>\n",
       "    <tr>\n",
       "      <th>2</th>\n",
       "      <td>0.781920</td>\n",
       "      <td>1</td>\n",
       "    </tr>\n",
       "    <tr>\n",
       "      <th>3</th>\n",
       "      <td>0.308707</td>\n",
       "      <td>0</td>\n",
       "    </tr>\n",
       "    <tr>\n",
       "      <th>4</th>\n",
       "      <td>0.791471</td>\n",
       "      <td>1</td>\n",
       "    </tr>\n",
       "    <tr>\n",
       "      <th>...</th>\n",
       "      <td>...</td>\n",
       "      <td>...</td>\n",
       "    </tr>\n",
       "    <tr>\n",
       "      <th>2495</th>\n",
       "      <td>0.096217</td>\n",
       "      <td>0</td>\n",
       "    </tr>\n",
       "    <tr>\n",
       "      <th>2496</th>\n",
       "      <td>0.142383</td>\n",
       "      <td>0</td>\n",
       "    </tr>\n",
       "    <tr>\n",
       "      <th>2497</th>\n",
       "      <td>0.767057</td>\n",
       "      <td>1</td>\n",
       "    </tr>\n",
       "    <tr>\n",
       "      <th>2498</th>\n",
       "      <td>0.803785</td>\n",
       "      <td>1</td>\n",
       "    </tr>\n",
       "    <tr>\n",
       "      <th>2499</th>\n",
       "      <td>0.209335</td>\n",
       "      <td>0</td>\n",
       "    </tr>\n",
       "  </tbody>\n",
       "</table>\n",
       "<p>2500 rows × 2 columns</p>\n",
       "</div>"
      ],
      "text/plain": [
       "       Feature  Class\n",
       "0     0.851149      1\n",
       "1     0.136934      0\n",
       "2     0.781920      1\n",
       "3     0.308707      0\n",
       "4     0.791471      1\n",
       "...        ...    ...\n",
       "2495  0.096217      0\n",
       "2496  0.142383      0\n",
       "2497  0.767057      1\n",
       "2498  0.803785      1\n",
       "2499  0.209335      0\n",
       "\n",
       "[2500 rows x 2 columns]"
      ]
     },
     "metadata": {},
     "output_type": "display_data"
    }
   ],
   "source": [
    "# load the data from NB.csv\n",
    "NB = pd.read_csv(\"NB.csv\")\n",
    "display(NB)"
   ]
  },
  {
   "cell_type": "markdown",
   "id": "4e0abc02",
   "metadata": {},
   "source": [
    "## 3.1\n",
    "We know that each observation in our dataset is generated from one of two beta distributions, but we do not know the parameters of these distributions. To estimate these parameters, we will employ the following method-of-moments estimators:\n",
    "\n",
    "\\begin{align*}\n",
    "\\hat a = \\bar x\\left(\\frac{\\bar x(1-\\bar x)}{s^2_x} - 1\\right) \\\\\\\\\n",
    "\\hat b = (1-\\bar x)\\left(\\frac{\\bar x(1-\\bar x)}{s^2_x} - 1\\right)\n",
    "\\end{align*}\n",
    "\n",
    "where $\\bar x$ is sample mean, $s^2_x$ is **unbiased** sample variance.\n",
    "  \n",
    "Program a function `MOM_estimators(x)` that returns method-of-moments estimates of $a$ and $b$ given data `x` generated from a beta distribution."
   ]
  },
  {
   "cell_type": "code",
   "execution_count": 68,
   "id": "cd641380",
   "metadata": {},
   "outputs": [],
   "source": [
    "def MOM_estimators(x):\n",
    "\n",
    "    # add your code here\n",
    "    \n",
    "    a =  np.mean(x)*(np.mean(x)*(1-np.mean(x))/np.var(x)-1)\n",
    "    b =  (1-np.mean(x))*(np.mean(x)*(1-np.mean(x))/np.var(x)-1)\n",
    "    return(a, b)"
   ]
  },
  {
   "cell_type": "markdown",
   "id": "fcc0a2b1",
   "metadata": {},
   "source": [
    "## 3.2\n",
    "Complete the code below for a Beta Naive Bayes classification by using MOM estimators. Apply the sample-weighted prior for the two beta distributions. Use [scipy.stats.beta](https://docs.scipy.org/doc/scipy/reference/generated/scipy.stats.beta.html) for the beta distribution.\n",
    " \n",
    "Hint: You can modify the codes for Gaussian Naive Bayes classification in lecture notes, but substitute the Gaussian density function by the Beta density function using MOM estimators for $a$ and $b$ in the formula."
   ]
  },
  {
   "cell_type": "code",
   "execution_count": null,
   "id": "72cd98f1",
   "metadata": {},
   "outputs": [],
   "source": [
    "import scipy.stats as stats\n",
    "# create a beta naive bayes function based on Method-of-Moments estimatior class\n",
    "class beta_naive_bayes(object):\n",
    "    # define estimate function to get needed parameters for gamma distribution\n",
    "    def estimate(self, X, C):\n",
    "        self.param = dict()# create param and will save parameters in it\n",
    "        # calculate required parameters for different classes from training set\n",
    "        for k in np.unique(C): # 0,1\n",
    "            \n",
    "            # add your code here\n",
    "\n",
    "            self.param[k] = (prior, a, b) # set class k's parameters into self.param[k]\n",
    "        return self\n",
    "    \n",
    "    # define prediction function to get predict result from test set T\n",
    "    def prediction(self, T):\n",
    "        k_pred = -1 * np.ones(T.size) # create an empty k_pred in advance for reserving prediction values\n",
    "        # evaluate posterior for each point and find maximum\n",
    "        for i in range(T.size): \n",
    "\n",
    "            # add your code here\n",
    "            \n",
    "        return k_pred"
   ]
  },
  {
   "cell_type": "markdown",
   "id": "266b27b9",
   "metadata": {},
   "source": [
    "## 3.4\n",
    "We proceed to perform classification on our data. Split the dataset into a training and test set using 4/5 as the test size and a random state of 436. Print the test set accuracy (correct predictions / total predictions)."
   ]
  },
  {
   "cell_type": "code",
   "execution_count": 69,
   "id": "9cda747f",
   "metadata": {},
   "outputs": [
    {
     "ename": "SyntaxError",
     "evalue": "invalid syntax (<ipython-input-69-add7ca2e4a76>, line 7)",
     "output_type": "error",
     "traceback": [
      "\u001b[0;36m  File \u001b[0;32m\"<ipython-input-69-add7ca2e4a76>\"\u001b[0;36m, line \u001b[0;32m7\u001b[0m\n\u001b[0;31m    acc =      # add your code here\u001b[0m\n\u001b[0m               ^\u001b[0m\n\u001b[0;31mSyntaxError\u001b[0m\u001b[0;31m:\u001b[0m invalid syntax\n"
     ]
    }
   ],
   "source": [
    "# train_test_split\n",
    "X, X_test, C, y_test = train_test_split(X, y, test_size = 4/5)\n",
    "\n",
    "k_pred1 =  beta_naive_bayes().estimate(X, C).prediction(X_test)\n",
    "\n",
    "# compute the accuracy\n",
    "acc =      # add your code here\n",
    "\n",
    "print('The accuracy on test set is {0:0.4f}'. format(acc))"
   ]
  },
  {
   "cell_type": "markdown",
   "id": "c44334e1",
   "metadata": {},
   "source": [
    "# Problem 4"
   ]
  },
  {
   "cell_type": "markdown",
   "id": "f51fa68d",
   "metadata": {},
   "source": [
    "We load the \"Smarket.csv\" dataset, which contains observations on the [S&P 500 stock market index](https://en.wikipedia.org/wiki/S%26P_500) from the beginning of 2001 until the end of 2005. The features in the dataset are as follows:\n",
    "\n",
    "- Lag1 through Lag5: Percentage returns relative to each of the five previous trading days.\n",
    "- Volume: Number of shares traded on the previous day in billions.\n",
    "- Today: Percentage return on the trading day.\n",
    "- Direction: Whether the market was up (2) or down (1) on the trading day."
   ]
  },
  {
   "cell_type": "code",
   "execution_count": 53,
   "id": "b4941ef0",
   "metadata": {},
   "outputs": [
    {
     "data": {
      "text/html": [
       "<div>\n",
       "<style scoped>\n",
       "    .dataframe tbody tr th:only-of-type {\n",
       "        vertical-align: middle;\n",
       "    }\n",
       "\n",
       "    .dataframe tbody tr th {\n",
       "        vertical-align: top;\n",
       "    }\n",
       "\n",
       "    .dataframe thead th {\n",
       "        text-align: right;\n",
       "    }\n",
       "</style>\n",
       "<table border=\"1\" class=\"dataframe\">\n",
       "  <thead>\n",
       "    <tr style=\"text-align: right;\">\n",
       "      <th></th>\n",
       "      <th>Year</th>\n",
       "      <th>Lag1</th>\n",
       "      <th>Lag2</th>\n",
       "      <th>Lag3</th>\n",
       "      <th>Lag4</th>\n",
       "      <th>Lag5</th>\n",
       "      <th>Volume</th>\n",
       "      <th>Today</th>\n",
       "      <th>Direction</th>\n",
       "    </tr>\n",
       "  </thead>\n",
       "  <tbody>\n",
       "    <tr>\n",
       "      <th>0</th>\n",
       "      <td>2001</td>\n",
       "      <td>0.381</td>\n",
       "      <td>-0.192</td>\n",
       "      <td>-2.624</td>\n",
       "      <td>-1.055</td>\n",
       "      <td>5.010</td>\n",
       "      <td>1.19130</td>\n",
       "      <td>0.959</td>\n",
       "      <td>2</td>\n",
       "    </tr>\n",
       "    <tr>\n",
       "      <th>1</th>\n",
       "      <td>2001</td>\n",
       "      <td>0.959</td>\n",
       "      <td>0.381</td>\n",
       "      <td>-0.192</td>\n",
       "      <td>-2.624</td>\n",
       "      <td>-1.055</td>\n",
       "      <td>1.29650</td>\n",
       "      <td>1.032</td>\n",
       "      <td>2</td>\n",
       "    </tr>\n",
       "    <tr>\n",
       "      <th>2</th>\n",
       "      <td>2001</td>\n",
       "      <td>1.032</td>\n",
       "      <td>0.959</td>\n",
       "      <td>0.381</td>\n",
       "      <td>-0.192</td>\n",
       "      <td>-2.624</td>\n",
       "      <td>1.41120</td>\n",
       "      <td>-0.623</td>\n",
       "      <td>1</td>\n",
       "    </tr>\n",
       "    <tr>\n",
       "      <th>3</th>\n",
       "      <td>2001</td>\n",
       "      <td>-0.623</td>\n",
       "      <td>1.032</td>\n",
       "      <td>0.959</td>\n",
       "      <td>0.381</td>\n",
       "      <td>-0.192</td>\n",
       "      <td>1.27600</td>\n",
       "      <td>0.614</td>\n",
       "      <td>2</td>\n",
       "    </tr>\n",
       "    <tr>\n",
       "      <th>4</th>\n",
       "      <td>2001</td>\n",
       "      <td>0.614</td>\n",
       "      <td>-0.623</td>\n",
       "      <td>1.032</td>\n",
       "      <td>0.959</td>\n",
       "      <td>0.381</td>\n",
       "      <td>1.20570</td>\n",
       "      <td>0.213</td>\n",
       "      <td>2</td>\n",
       "    </tr>\n",
       "    <tr>\n",
       "      <th>...</th>\n",
       "      <td>...</td>\n",
       "      <td>...</td>\n",
       "      <td>...</td>\n",
       "      <td>...</td>\n",
       "      <td>...</td>\n",
       "      <td>...</td>\n",
       "      <td>...</td>\n",
       "      <td>...</td>\n",
       "      <td>...</td>\n",
       "    </tr>\n",
       "    <tr>\n",
       "      <th>1245</th>\n",
       "      <td>2005</td>\n",
       "      <td>0.422</td>\n",
       "      <td>0.252</td>\n",
       "      <td>-0.024</td>\n",
       "      <td>-0.584</td>\n",
       "      <td>-0.285</td>\n",
       "      <td>1.88850</td>\n",
       "      <td>0.043</td>\n",
       "      <td>2</td>\n",
       "    </tr>\n",
       "    <tr>\n",
       "      <th>1246</th>\n",
       "      <td>2005</td>\n",
       "      <td>0.043</td>\n",
       "      <td>0.422</td>\n",
       "      <td>0.252</td>\n",
       "      <td>-0.024</td>\n",
       "      <td>-0.584</td>\n",
       "      <td>1.28581</td>\n",
       "      <td>-0.955</td>\n",
       "      <td>1</td>\n",
       "    </tr>\n",
       "    <tr>\n",
       "      <th>1247</th>\n",
       "      <td>2005</td>\n",
       "      <td>-0.955</td>\n",
       "      <td>0.043</td>\n",
       "      <td>0.422</td>\n",
       "      <td>0.252</td>\n",
       "      <td>-0.024</td>\n",
       "      <td>1.54047</td>\n",
       "      <td>0.130</td>\n",
       "      <td>2</td>\n",
       "    </tr>\n",
       "    <tr>\n",
       "      <th>1248</th>\n",
       "      <td>2005</td>\n",
       "      <td>0.130</td>\n",
       "      <td>-0.955</td>\n",
       "      <td>0.043</td>\n",
       "      <td>0.422</td>\n",
       "      <td>0.252</td>\n",
       "      <td>1.42236</td>\n",
       "      <td>-0.298</td>\n",
       "      <td>1</td>\n",
       "    </tr>\n",
       "    <tr>\n",
       "      <th>1249</th>\n",
       "      <td>2005</td>\n",
       "      <td>-0.298</td>\n",
       "      <td>0.130</td>\n",
       "      <td>-0.955</td>\n",
       "      <td>0.043</td>\n",
       "      <td>0.422</td>\n",
       "      <td>1.38254</td>\n",
       "      <td>-0.489</td>\n",
       "      <td>1</td>\n",
       "    </tr>\n",
       "  </tbody>\n",
       "</table>\n",
       "<p>1250 rows × 9 columns</p>\n",
       "</div>"
      ],
      "text/plain": [
       "      Year   Lag1   Lag2   Lag3   Lag4   Lag5   Volume  Today  Direction\n",
       "0     2001  0.381 -0.192 -2.624 -1.055  5.010  1.19130  0.959          2\n",
       "1     2001  0.959  0.381 -0.192 -2.624 -1.055  1.29650  1.032          2\n",
       "2     2001  1.032  0.959  0.381 -0.192 -2.624  1.41120 -0.623          1\n",
       "3     2001 -0.623  1.032  0.959  0.381 -0.192  1.27600  0.614          2\n",
       "4     2001  0.614 -0.623  1.032  0.959  0.381  1.20570  0.213          2\n",
       "...    ...    ...    ...    ...    ...    ...      ...    ...        ...\n",
       "1245  2005  0.422  0.252 -0.024 -0.584 -0.285  1.88850  0.043          2\n",
       "1246  2005  0.043  0.422  0.252 -0.024 -0.584  1.28581 -0.955          1\n",
       "1247  2005 -0.955  0.043  0.422  0.252 -0.024  1.54047  0.130          2\n",
       "1248  2005  0.130 -0.955  0.043  0.422  0.252  1.42236 -0.298          1\n",
       "1249  2005 -0.298  0.130 -0.955  0.043  0.422  1.38254 -0.489          1\n",
       "\n",
       "[1250 rows x 9 columns]"
      ]
     },
     "metadata": {},
     "output_type": "display_data"
    }
   ],
   "source": [
    "import pandas as pd\n",
    "smarket = pd.read_csv(\"Smarket.csv\") ## Substitute appropriate filepath if necessary.\n",
    "display(smarket)"
   ]
  },
  {
   "cell_type": "markdown",
   "id": "f61d4d8b",
   "metadata": {},
   "source": [
    "In this problem, we want to train classifers that use the index performance of the two previous day to predict the market direction on a trading day."
   ]
  },
  {
   "cell_type": "markdown",
   "id": "90e4f296",
   "metadata": {},
   "source": [
    "## 4.1 \n",
    "Plot the sample features \"Lag1\" vs. \"Lag2\" in a scatterplot. Color the points by the market direction on the trading day."
   ]
  },
  {
   "cell_type": "code",
   "execution_count": 61,
   "id": "3f0d1f0a",
   "metadata": {},
   "outputs": [
    {
     "data": {
      "image/png": "[encoded data removed]",
      "text/plain": [
       "<Figure size 432x216 with 1 Axes>"
      ]
     },
     "metadata": {
      "needs_background": "light"
     },
     "output_type": "display_data"
    }
   ],
   "source": [
    "import matplotlib.pyplot as plt\n",
    "from matplotlib.colors import ListedColormap\n",
    "######################################\n",
    "### Write your code starting from here\n",
    "\n",
    "plt.figure(figsize=(6, 3)) \n",
    "plt.scatter(smarket['Lag1'], smarket['Lag2'], c = smarket['Direction'], marker = 'o', s = 30)\n",
    "plt.title(\"Scatter Plot between lag1 vs lag2 \")\n",
    "plt.show()\n"
   ]
  },
  {
   "cell_type": "markdown",
   "id": "4227af14",
   "metadata": {},
   "source": [
    "## 4.2\n",
    "Create two objects of type `numpy.ndarray` called `X_train` and `y_train` based on the DataFrame `smarket` that \n",
    "represent a training set based on the performance of the two last days before the trading day, using only the data from years 2001 through 2004.\n",
    "\n",
    "Furthermore, create two objects of type `numpy.ndarray` called `X_test` and `y_test` that represent a test set that includes all the trading days in the year 2005. "
   ]
  },
  {
   "cell_type": "code",
   "execution_count": 78,
   "id": "d08e0fde",
   "metadata": {},
   "outputs": [
    {
     "ename": "SyntaxError",
     "evalue": "invalid syntax (<ipython-input-78-ceb766777bc4>, line 2)",
     "output_type": "error",
     "traceback": [
      "\u001b[0;36m  File \u001b[0;32m\"<ipython-input-78-ceb766777bc4>\"\u001b[0;36m, line \u001b[0;32m2\u001b[0m\n\u001b[0;31m    X_train = np.ndarray(smarket['Year']==[2001:2004])\u001b[0m\n\u001b[0m                                               ^\u001b[0m\n\u001b[0;31mSyntaxError\u001b[0m\u001b[0;31m:\u001b[0m invalid syntax\n"
     ]
    }
   ],
   "source": [
    "import numpy as np\n",
    "X_train = np.ndarray(smarket['Year']==[2001:2004])\n",
    "y_train = np.ndarray(smarket['Year']==[2001:2004])\n",
    "X_test = np.ndarray(smarket['Year']==[2005])\n",
    "y_test = np.ndarray(smarket['Year']==[2005])"
   ]
  },
  {
   "cell_type": "markdown",
   "id": "649d7fbc",
   "metadata": {},
   "source": [
    "## 4.3\n",
    "Fit classifiers that use linear discriminant analysis (LDA) and quadratic discriminant analysis (QDA) to predict the S&P 500 stock market index direction on the trading days of the year 2005 from the data of the years 2001 through 2004, using only the features selected in 4.2.\n",
    "\n",
    "Print both the training and test accuracy for each model."
   ]
  },
  {
   "cell_type": "code",
   "execution_count": null,
   "id": "a9ecb2f5",
   "metadata": {},
   "outputs": [],
   "source": [
    "QDA_model = QDA().fit(X_train,y_train)\n",
    "y_predict_QDA = QDA_model.predict(X_test)\n",
    "print('QDA Accuracy: ' + str(accuracy_score(y_predict_QDA,y_test)))\n",
    "\n",
    "\n",
    "LDA_model = LDA().fit(X_train,y_train)\n",
    "y_predict_LDA = LDA_model.predict(X_test)\n",
    "print('LDA Accuracy: ' + str(accuracy_score(y_predict_LDA,y_test)))"
   ]
  },
  {
   "cell_type": "markdown",
   "id": "273d4b75",
   "metadata": {},
   "source": [
    "## 4.4\n",
    "For each model, plot a \"classification_map\" the visualizes the decision boundaries.\n",
    "\n",
    "Hint: You may use parts of the code for the classification_map function of lectures 11–12."
   ]
  },
  {
   "cell_type": "code",
   "execution_count": null,
   "id": "b0d6adba",
   "metadata": {},
   "outputs": [],
   "source": [
    "def classification_map(X,y,classifier,X_test=None,y_test=None,h=0.01,figsize=(10,10)):\n",
    "    import matplotlib.pyplot as plt\n",
    "    from matplotlib.colors import ListedColormap\n",
    "    ######################################\n",
    "    ### Write your code starting from here\n"
   ]
  }
 ],
 "metadata": {
  "kernelspec": {
   "display_name": "Python 3",
   "language": "python",
   "name": "python3"
  },
  "language_info": {
   "codemirror_mode": {
    "name": "ipython",
    "version": 3
   },
   "file_extension": ".py",
   "mimetype": "text/x-python",
   "name": "python",
   "nbconvert_exporter": "python",
   "pygments_lexer": "ipython3",
   "version": "3.8.8"
  },
  "varInspector": {
   "cols": {
    "lenName": 16,
    "lenType": 16,
    "lenVar": 40
   },
   "kernels_config": {
    "python": {
     "delete_cmd_postfix": "",
     "delete_cmd_prefix": "del ",
     "library": "var_list.py",
     "varRefreshCmd": "print(var_dic_list())"
    },
    "r": {
     "delete_cmd_postfix": ") ",
     "delete_cmd_prefix": "rm(",
     "library": "var_list.r",
     "varRefreshCmd": "cat(var_dic_list()) "
    }
   },
   "types_to_exclude": [
    "module",
    "function",
    "builtin_function_or_method",
    "instance",
    "_Feature"
   ],
   "window_display": false
  }
 },
 "nbformat": 4,
 "nbformat_minor": 5
}
