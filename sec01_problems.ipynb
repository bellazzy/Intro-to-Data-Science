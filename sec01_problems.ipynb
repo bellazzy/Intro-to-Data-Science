{
 "cells": [
  {
   "cell_type": "markdown",
   "id": "6dbcb1a3",
   "metadata": {},
   "source": [
    "# 1 Descriptive Statistics"
   ]
  },
  {
   "cell_type": "markdown",
   "id": "f9586d32",
   "metadata": {},
   "source": [
    "## 1.0\n",
    "\n",
    "We will load data on monthly stock returns from 1926 to 2021 and store it in a numpy array for you. Run the following cell."
   ]
  },
  {
   "cell_type": "code",
   "execution_count": null,
   "id": "116d7bfe",
   "metadata": {
    "scrolled": true
   },
   "outputs": [],
   "source": [
    "# Module for arrays.\n",
    "import numpy as np\n",
    "# Module for dataframe manipulation.\n",
    "import pandas as pd\n",
    "# Function for downloading from URLs.\n",
    "from urllib import request \n",
    "# Function for constructing interface with ZIP files.\n",
    "from zipfile import ZipFile \n",
    "\n",
    " # URL of ZIP archive with data.\n",
    "link = 'https://mba.tuck.dartmouth.edu/pages/faculty/ken.french/ftp/F-F_Research_Data_Factors_CSV.zip'\n",
    "# Name of local file where ZIP will be stored.\n",
    "temp = 'F-F_Research_Data_Factors_CSV.zip' \n",
    "# Retrieve ZIP file from 'link' and store in local file named 'temp'.\n",
    "request.urlretrieve(link, temp) \n",
    "# Construct interface with ZIP file.\n",
    "archive = ZipFile(temp) \n",
    "# Load the CSV file in the ZIP archive.\n",
    "csv = archive.open('F-F_Research_Data_Factors.CSV') \n",
    "# Read specified number of rows from CSV with line 2 as header.\n",
    "# Note that knowing which lines to read requires you to have viewed the CSV by another means (e.g. Excel).\n",
    "df1 = pd.read_csv(csv, header=2, nrows=1140) \n",
    "\n",
    "# Store the stock return variable values in a Numpy array.\n",
    "stocks = df1['Mkt-RF'].values\n",
    "# Print a preview of the 'stocks' variable.\n",
    "print(stocks)\n",
    "# Print the type of the 'stocks' variable.\n",
    "print(type(stocks))"
   ]
  },
  {
   "cell_type": "markdown",
   "id": "8b0ee402",
   "metadata": {},
   "source": [
    "## 1.1\n",
    "\n",
    "SciPy and NumPy have functions for computing sample\n",
    "\n",
    "- mean\n",
    "- variance\n",
    "- standard deviation\n",
    "- skewness\n",
    "- kurtosis\n",
    "- quantiles\n",
    "\n",
    "As an exercise, implement your own functions for these descriptive statistics. The functions should be designed to operate on a one-dimensional $\\texttt{ndarray}$. You may use other Scipy and Numpy functions in your implementations.  Apply your functions to the $\\texttt{stocks}$ data to test them out."
   ]
  },
  {
   "cell_type": "code",
   "execution_count": null,
   "id": "a065162c",
   "metadata": {},
   "outputs": [],
   "source": []
  },
  {
   "cell_type": "markdown",
   "id": "c92c1737",
   "metadata": {},
   "source": [
    "## 1.2\n",
    "\n",
    "Apply the corresponding SciPy or NumPy functions. Do your functions give different results? If so, are your implementations incorrect, or can you adjust some parameters of the SciPy or NumPy functions to give the same results?"
   ]
  },
  {
   "cell_type": "code",
   "execution_count": null,
   "id": "2e7eedcf",
   "metadata": {},
   "outputs": [],
   "source": []
  },
  {
   "cell_type": "markdown",
   "id": "3da9eeb9",
   "metadata": {},
   "source": [
    "## 1.3\n",
    "\n",
    "The normal distribution is commonly used to model natural and social phenomena. Investigate whether the hypothesis that the historical stock return is normally distributed is plausible as follows:\n",
    "\n",
    "- Simulate draws from a normal distribution with the same mean and standard deviation as the stock returns. For the number of draws, use the number of stock return observations. Use a seed of 0.\n",
    "- Compare descriptive statistics from the simulated data to the descriptive statistics of the stock returns.\n",
    "- Comment on similarities and differences. Give a judgment as to whether the hypothesis that the historical stock return is normally distributed is plausible."
   ]
  },
  {
   "cell_type": "code",
   "execution_count": null,
   "id": "4e6e9087",
   "metadata": {},
   "outputs": [],
   "source": []
  },
  {
   "cell_type": "markdown",
   "id": "cf23de18",
   "metadata": {},
   "source": [
    "# 2 Visualizing Probability Distributions\n",
    "A $\\text{binomial}(n, p)$ distribution converges to a normal $\\mathcal{N}\\left(np, np(1-p)\\right)$ distribution as $n$ increases. Write a procedure that demonstrates the convergence. The procedure should do the following:\n",
    "\n",
    "- Take $n$ and $p$ as input.\n",
    "- Plot the PMF of a $\\text{binom}(n,p)$ random variable.\n",
    "- Plot, over the PMF, the PDF of a normal random variable with mean $np$ and standard deviation $\\sqrt{np(1-p)}$.\n",
    "\n",
    "When you get procedure working, run it with small and then increasing values of $n$ for fixed $p$. Note how in the output plot the binomial PMF gets closer to the normal PDF as you increase $n$."
   ]
  },
  {
   "cell_type": "code",
   "execution_count": null,
   "id": "21d66115",
   "metadata": {},
   "outputs": [],
   "source": []
  }
 ],
 "metadata": {
  "kernelspec": {
   "display_name": "Python 3",
   "language": "python",
   "name": "python3"
  },
  "language_info": {
   "codemirror_mode": {
    "name": "ipython",
    "version": 3
   },
   "file_extension": ".py",
   "mimetype": "text/x-python",
   "name": "python",
   "nbconvert_exporter": "python",
   "pygments_lexer": "ipython3",
   "version": "3.8.5"
  }
 },
 "nbformat": 4,
 "nbformat_minor": 5
}
